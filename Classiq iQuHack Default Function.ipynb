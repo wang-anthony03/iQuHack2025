{
 "cells": [
  {
   "cell_type": "markdown",
   "metadata": {},
   "source": [
    "<center>\n",
    "    <img src=\"data:image/png;base64,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\" width=\"500\" />\n",
    "</center>\n",
    "\n",
    "\n",
    "\n",
    "<!-- ![MITClassiq](data:image/png;base64,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) -->"
   ]
  },
  {
   "cell_type": "markdown",
   "metadata": {},
   "source": [
    "# Classiq Challenge - Gaussian State Prepration"
   ]
  },
  {
   "cell_type": "markdown",
   "metadata": {},
   "source": [
    "**We now have a new Web-SDK with a Python environment set up for you, along with a personal workspace where all your work will be saved!**  \n",
    "Please upload this challenge notebook to the Web-SDK on our [platform](https://platform.classiq.io/) in your persistent user workspace and try solving it there."
   ]
  },
  {
   "cell_type": "markdown",
   "metadata": {},
   "source": [
    "## Welcome to the Classiq challenge of the MIT iQuHack Hackathon 2025!"
   ]
  },
  {
   "cell_type": "markdown",
   "metadata": {},
   "source": [
    "### Motivation"
   ]
  },
  {
   "cell_type": "markdown",
   "metadata": {},
   "source": [
    "**State Preparation** is a cornerstone of quantum algorithms and applications, enabling the initialization of quantum systems into specific states as a starting point for subsequent operations. Its efficiency directly impacts the accuracy and scalability of quantum computations.\n",
    "\n",
    "A particular interest is the **Gaussian state preparation**, which is essential for simulating physical systems and tackling problems in quantum chemistry, machine learning, and optimization. Gaussian states, characterized by their Gaussian-shaped wavefunctions, are powerful tools for encoding probability distributions and modeling quantum systems.\n",
    "\n",
    "With the scaling of quantum hardware, achieving efficient and precise Gaussian state preparation could improve the costs of quantum algorithms and enhance impactful applications like option pricing in finance, molecular simulations in quantum chemistry, and data analysis in machine learning, among others.\n",
    "\n",
    "---"
   ]
  },
  {
   "cell_type": "markdown",
   "metadata": {},
   "source": [
    "**This Jupyter notebook serves as the framework for the challenge.**  \n",
    "Please read it fully and carefully to understand the scope of the challenge before you start solving the problem using **Classiq**.\n",
    "\n",
    "The notebook is divided into two parts:  \n",
    "1. **The challenge**: This includes the problem you need to solve, the required format, instructions to self-check your solution, and how to export your algorithm for submission.\n",
    "2. **Results Evaluation**: Here are the functions we will use to evaluate the performance of your solutions.\n",
    "3. **Submission**: Use the provided function to save your solution in the relevant format and submit it through the submission link.\n",
    "\n",
    "\\\n",
    "**Your resources:**\n",
    "- The Classiq IDE at [platform.classiq.io](https://platform.classiq.io/).\n",
    "- The [Classiq Library](https://github.com/Classiq/classiq-library) – the largest collection of quantum functions, algorithms, and tutorials.\n",
    "- [Classiq's documentation](https://docs.classiq.io/latest/) and the [Classiq101](https://docs.classiq.io/latest/classiq_101/) for quick onboarding to high-level quantum modelling concepts.\n",
    "- The [Classiq Community Slack](https://short.classiq.io/join-slack) – where the Classiq team will address any questions, including implementation-related queries.\n",
    "- The Warm-Up session is highly recommended as well!\n",
    "\n",
    "\\\n",
    "**Important:**  \n",
    "- Do not modify the cells variables or functions used for auto-saving and grading, as this may prevent us from validating and grading your solutions.\n",
    "- When reaching out to us on the Classiq Community Slack, **please ensure your message is clear and includes all relevant information**. State the **topic of your request in the main message** and provide additional details, including the full error message, in a **thread**. The best channel is the [support-and-questions](https://classiq-community.slack.com/archives/C04L4RC85U4)\n",
    "\n",
    "**Good luck!**\n",
    "\n",
    "---"
   ]
  },
  {
   "cell_type": "markdown",
   "metadata": {},
   "source": [
    "### Your Challange "
   ]
  },
  {
   "cell_type": "markdown",
   "metadata": {
    "jp-MarkdownHeadingCollapsed": true
   },
   "source": [
    "**Your challenge is to prepare a Gaussian state in the symmetrical domain $x \\in [-2, 2)$.**\n",
    "\n",
    "To complete this challenge, follow the instructions below:\n",
    "\n",
    "#### Target State: The Gaussian State Representation\n",
    "\n",
    "The Gaussian state is defined as:\n",
    "\n",
    "$$\n",
    "|x_0\\rangle_N = |0\\rangle_N \\longrightarrow \\sum_{|x\\rangle_N} \\sqrt{G(x)} |x\\rangle_N\n",
    "$$\n",
    "\n",
    "Where $G(x)$ is represented as a vector:\n",
    "\n",
    "$$\n",
    "{G}(x_i) = \\frac{\\exp(-\\lambda \\cdot {x_i}^2)}{\\sum_{x' \\in \\text{domain}} \\exp(-\\lambda \\cdot (x')^2)} \\text{, for } x_i \\in \\text{domain}\n",
    "$$\n",
    "\n",
    "\n",
    "- $G(x)$ is the normalized Gaussian vector across the discrete domain.  \n",
    "- $\\vec{x}$ represents the set of discrete points in the domain.  \n",
    "- $\\lambda$ represents the decay rate. In the code, it is represented by the variable $\\text{EXP\\_RATE}$, which controls the spread of the Gaussian.\n",
    "- The denominator ensures normalization across the entire domain.\n",
    "\n",
    "#### Domain Specification\n",
    "\n",
    "Set the domain to $x \\in [-2, 2)$, with the `resolution` variable controlling the granularity.\n",
    "\n",
    "#### Precision and Resolution Control\n",
    "\n",
    "Use the `resolution` variable to control the precision of $x$. Increasing `resolution` improves discretization without altering the domain boundaries. To achieve this, define `fractional digits = resolution - 2`.\n",
    "\n",
    "This ensures the domain and granularity remain consistent with the instructions.\n",
    "\n",
    "---\n",
    "\n",
    "#### Rules for Implementation\n",
    "\n",
    "- Follow this notebook and adapt the necessary parts in the appropriate cells.\n",
    "- **Do not change functions, cells, variable names, or values unless explicitly instructed to do so.**\n",
    "\n",
    "---\n",
    "\n",
    "#### Submission Guidelines and Requirements\n",
    "\n",
    "Your final submission should include:\n",
    "- Two `.qprog` files, one for each stage, as instructed in this notebook.\n",
    "- One `.ipynb` file (this notebook with your solution). Please name the file starting with your group name!\n",
    "- A short paragraph briefly explaining your work.\n",
    "- **Submit all the files via the [submission page](https://fvrn0h72gwo.typeform.com/to/W4I7N9yl)**.\n",
    "\n",
    "##### **Stage 1: Achieving a Small MSE**\n",
    "- **Goal**: Achieve a Mean Squared Error (MSE) smaller than the threshold: $MSE_{\\text{threshold}} = 1 \\cdot 10^{-7}$.\n",
    "- **Constraints**:\n",
    "  - Limited to **18 qubits** as defined by the `create_qprog()` function for the state-vector simulator.\n",
    "  - The `resolution_stage_1` is fixed at **8**. **Do not modify this value.**\n",
    "- **Submission**:\n",
    "  - Your solution for this stage will be evaluated based on the file `your_group__stage_1__resolution_7.qprog` generated by the `save_qprog()` function in the Submission section.\n",
    "\n",
    "##### **Stage 2: Demonstrating Scalability**\n",
    "- **Goal**: Demonstrate the scalability of your solution.\n",
    "  - Increase the `resolution_stage_2` to a value of your choice to showcase the efficient use of resources for higher resolutions.\n",
    "  - This stage is not expected to be executable on the state-vector simulator, and the `create_qprog()` function imposes the qubit limits by: `max_width=127`.\n",
    "  The synthesis timeout is extended in this stage to achieve a more scalable solution, as you might see in `create_qprog()`.\n",
    "- **Submission**:\n",
    "  - Your solution for this stage will be evaluated based on the file `your_group__stage_2__resolution_##.qprog` generated by the `save_qprog()` function in the Submission section. This part's `resolution` value will automatically determine the `##` part of the file name.\n",
    "- **Explanation**:\n",
    "  - Include an explanation of how your algorithm scales, addressing:\n",
    "    - How the MSE scales with resolution.\n",
    "    - The complexity of the quantum program (CX count).\n",
    "    - The size scaling with increasing resolution between stages.\n",
    "    - Any important decisions made during the implementation.\n",
    "\n",
    "---\n",
    "\n",
    "#### Evaluation Criteria: How Your Submission Will Be Graded\n",
    "\n",
    "Winning teams will be determined by the following:\n",
    "\n",
    "1. **Performance**: Solutions that achieve results at least as good as the threshold $MSE_{\\text{threshold}}$.\n",
    "\n",
    "2. **Scaling**:\n",
    "    - Among solutions meeting the threshold, submissions will be evaluated by the size of their quantum program:\n",
    "      - **Depth** and **CX count** using the `get_metrics()` function for `your_group__stage_1__resolution_7.qprog`.\n",
    "      - The same parameters will be evaluated for `your_group__stage_2__resolution_##.qprog`, if submitted.\n",
    "\n",
    "3. **Overall Consideration**: Creativity, efficient use of the Classiq SDK, and the application of high-level functional design concepts. The explanation paragraph, if submitted, will also be taken into account as part of the evaluation.\n",
    "\n",
    "---\n",
    "\n",
    "#### **Good luck!**"
   ]
  },
  {
   "cell_type": "markdown",
   "metadata": {
    "jp-MarkdownHeadingCollapsed": true
   },
   "source": [
    "### If you are not using the Web-SDK:"
   ]
  },
  {
   "cell_type": "markdown",
   "metadata": {},
   "source": [
    "1. Firstly, if you haven't already, install the Classiq SDK package. If it's already installed, make sure to update it to the latest version."
   ]
  },
  {
   "cell_type": "code",
   "execution_count": 10,
   "metadata": {
    "ExecuteTime": {
     "end_time": "2024-08-20T09:02:51.727666Z",
     "start_time": "2024-08-20T09:02:51.725583Z"
    }
   },
   "outputs": [
    {
     "name": "stdout",
     "output_type": "stream",
     "text": [
      "Requirement already satisfied: classiq in /Users/awang/Documents/CompSci/.venv/lib/python3.12/site-packages (0.66.1)\n",
      "Requirement already satisfied: ConfigArgParse<2.0.0,>=1.5.3 in /Users/awang/Documents/CompSci/.venv/lib/python3.12/site-packages (from classiq) (1.7)\n",
      "Requirement already satisfied: Pyomo<6.6,>=6.5 in /Users/awang/Documents/CompSci/.venv/lib/python3.12/site-packages (from classiq) (6.5.0)\n",
      "Requirement already satisfied: black<25.0,>=24.0 in /Users/awang/Documents/CompSci/.venv/lib/python3.12/site-packages (from classiq) (24.10.0)\n",
      "Requirement already satisfied: httpx<1,>=0.23.0 in /Users/awang/Documents/CompSci/.venv/lib/python3.12/site-packages (from classiq) (0.28.1)\n",
      "Requirement already satisfied: keyring<24.0.0,>=23.5.0 in /Users/awang/Documents/CompSci/.venv/lib/python3.12/site-packages (from classiq) (23.13.1)\n",
      "Requirement already satisfied: matplotlib<4.0.0,>=3.4.3 in /Users/awang/Documents/CompSci/.venv/lib/python3.12/site-packages (from classiq) (3.10.0)\n",
      "Requirement already satisfied: networkx<3.0.0,>=2.5.1 in /Users/awang/Documents/CompSci/.venv/lib/python3.12/site-packages (from classiq) (2.8.8)\n",
      "Requirement already satisfied: numexpr<3.0.0,>=2.7.3 in /Users/awang/Documents/CompSci/.venv/lib/python3.12/site-packages (from classiq) (2.10.2)\n",
      "Requirement already satisfied: numpy<2.0.0,>=1.26.0 in /Users/awang/Documents/CompSci/.venv/lib/python3.12/site-packages (from classiq) (1.26.4)\n",
      "Requirement already satisfied: packaging<24.0,>=23.2 in /Users/awang/Documents/CompSci/.venv/lib/python3.12/site-packages (from classiq) (23.2)\n",
      "Requirement already satisfied: pandas<3.0.0,>=1.4.0 in /Users/awang/Documents/CompSci/.venv/lib/python3.12/site-packages (from classiq) (2.2.3)\n",
      "Requirement already satisfied: plotly<6.0.0,>=5.7.0 in /Users/awang/Documents/CompSci/.venv/lib/python3.12/site-packages (from classiq) (5.24.1)\n",
      "Requirement already satisfied: pydantic<2.10.0,>=2.9.0 in /Users/awang/Documents/CompSci/.venv/lib/python3.12/site-packages (from classiq) (2.9.2)\n",
      "Requirement already satisfied: pydantic-settings<3.0.0,>=2.4.0 in /Users/awang/Documents/CompSci/.venv/lib/python3.12/site-packages (from classiq) (2.7.1)\n",
      "Requirement already satisfied: scipy<2.0.0,>=1.11.0 in /Users/awang/Documents/CompSci/.venv/lib/python3.12/site-packages (from classiq) (1.15.1)\n",
      "Requirement already satisfied: sympy<2.0.0,>=1.13.0 in /Users/awang/Documents/CompSci/.venv/lib/python3.12/site-packages (from classiq) (1.13.3)\n",
      "Requirement already satisfied: tabulate<1,>=0.8.9 in /Users/awang/Documents/CompSci/.venv/lib/python3.12/site-packages (from classiq) (0.9.0)\n",
      "Requirement already satisfied: tqdm<5.0.0,>=4.67.1 in /Users/awang/Documents/CompSci/.venv/lib/python3.12/site-packages (from classiq) (4.67.1)\n",
      "Requirement already satisfied: click>=8.0.0 in /Users/awang/Documents/CompSci/.venv/lib/python3.12/site-packages (from black<25.0,>=24.0->classiq) (8.1.8)\n",
      "Requirement already satisfied: mypy-extensions>=0.4.3 in /Users/awang/Documents/CompSci/.venv/lib/python3.12/site-packages (from black<25.0,>=24.0->classiq) (1.0.0)\n",
      "Requirement already satisfied: pathspec>=0.9.0 in /Users/awang/Documents/CompSci/.venv/lib/python3.12/site-packages (from black<25.0,>=24.0->classiq) (0.12.1)\n",
      "Requirement already satisfied: platformdirs>=2 in /Users/awang/Documents/CompSci/.venv/lib/python3.12/site-packages (from black<25.0,>=24.0->classiq) (4.3.6)\n",
      "Requirement already satisfied: anyio in /Users/awang/Documents/CompSci/.venv/lib/python3.12/site-packages (from httpx<1,>=0.23.0->classiq) (4.8.0)\n",
      "Requirement already satisfied: certifi in /Users/awang/Documents/CompSci/.venv/lib/python3.12/site-packages (from httpx<1,>=0.23.0->classiq) (2025.1.31)\n",
      "Requirement already satisfied: httpcore==1.* in /Users/awang/Documents/CompSci/.venv/lib/python3.12/site-packages (from httpx<1,>=0.23.0->classiq) (1.0.7)\n",
      "Requirement already satisfied: idna in /Users/awang/Documents/CompSci/.venv/lib/python3.12/site-packages (from httpx<1,>=0.23.0->classiq) (3.10)\n",
      "Requirement already satisfied: h11<0.15,>=0.13 in /Users/awang/Documents/CompSci/.venv/lib/python3.12/site-packages (from httpcore==1.*->httpx<1,>=0.23.0->classiq) (0.14.0)\n",
      "Requirement already satisfied: jaraco.classes in /Users/awang/Documents/CompSci/.venv/lib/python3.12/site-packages (from keyring<24.0.0,>=23.5.0->classiq) (3.4.0)\n",
      "Requirement already satisfied: contourpy>=1.0.1 in /Users/awang/Documents/CompSci/.venv/lib/python3.12/site-packages (from matplotlib<4.0.0,>=3.4.3->classiq) (1.3.1)\n",
      "Requirement already satisfied: cycler>=0.10 in /Users/awang/Documents/CompSci/.venv/lib/python3.12/site-packages (from matplotlib<4.0.0,>=3.4.3->classiq) (0.12.1)\n",
      "Requirement already satisfied: fonttools>=4.22.0 in /Users/awang/Documents/CompSci/.venv/lib/python3.12/site-packages (from matplotlib<4.0.0,>=3.4.3->classiq) (4.55.8)\n",
      "Requirement already satisfied: kiwisolver>=1.3.1 in /Users/awang/Documents/CompSci/.venv/lib/python3.12/site-packages (from matplotlib<4.0.0,>=3.4.3->classiq) (1.4.8)\n",
      "Requirement already satisfied: pillow>=8 in /Users/awang/Documents/CompSci/.venv/lib/python3.12/site-packages (from matplotlib<4.0.0,>=3.4.3->classiq) (11.1.0)\n",
      "Requirement already satisfied: pyparsing>=2.3.1 in /Users/awang/Documents/CompSci/.venv/lib/python3.12/site-packages (from matplotlib<4.0.0,>=3.4.3->classiq) (3.2.1)\n",
      "Requirement already satisfied: python-dateutil>=2.7 in /Users/awang/Documents/CompSci/.venv/lib/python3.12/site-packages (from matplotlib<4.0.0,>=3.4.3->classiq) (2.9.0.post0)\n",
      "Requirement already satisfied: pytz>=2020.1 in /Users/awang/Documents/CompSci/.venv/lib/python3.12/site-packages (from pandas<3.0.0,>=1.4.0->classiq) (2025.1)\n",
      "Requirement already satisfied: tzdata>=2022.7 in /Users/awang/Documents/CompSci/.venv/lib/python3.12/site-packages (from pandas<3.0.0,>=1.4.0->classiq) (2025.1)\n",
      "Requirement already satisfied: tenacity>=6.2.0 in /Users/awang/Documents/CompSci/.venv/lib/python3.12/site-packages (from plotly<6.0.0,>=5.7.0->classiq) (9.0.0)\n",
      "Requirement already satisfied: annotated-types>=0.6.0 in /Users/awang/Documents/CompSci/.venv/lib/python3.12/site-packages (from pydantic<2.10.0,>=2.9.0->classiq) (0.7.0)\n",
      "Requirement already satisfied: pydantic-core==2.23.4 in /Users/awang/Documents/CompSci/.venv/lib/python3.12/site-packages (from pydantic<2.10.0,>=2.9.0->classiq) (2.23.4)\n",
      "Requirement already satisfied: typing-extensions>=4.6.1 in /Users/awang/Documents/CompSci/.venv/lib/python3.12/site-packages (from pydantic<2.10.0,>=2.9.0->classiq) (4.12.2)\n",
      "Requirement already satisfied: python-dotenv>=0.21.0 in /Users/awang/Documents/CompSci/.venv/lib/python3.12/site-packages (from pydantic-settings<3.0.0,>=2.4.0->classiq) (1.0.1)\n",
      "Requirement already satisfied: ply in /Users/awang/Documents/CompSci/.venv/lib/python3.12/site-packages (from Pyomo<6.6,>=6.5->classiq) (3.11)\n",
      "Requirement already satisfied: mpmath<1.4,>=1.1.0 in /Users/awang/Documents/CompSci/.venv/lib/python3.12/site-packages (from sympy<2.0.0,>=1.13.0->classiq) (1.3.0)\n",
      "Requirement already satisfied: six>=1.5 in /Users/awang/Documents/CompSci/.venv/lib/python3.12/site-packages (from python-dateutil>=2.7->matplotlib<4.0.0,>=3.4.3->classiq) (1.17.0)\n",
      "Requirement already satisfied: sniffio>=1.1 in /Users/awang/Documents/CompSci/.venv/lib/python3.12/site-packages (from anyio->httpx<1,>=0.23.0->classiq) (1.3.1)\n",
      "Requirement already satisfied: more-itertools in /Users/awang/Documents/CompSci/.venv/lib/python3.12/site-packages (from jaraco.classes->keyring<24.0.0,>=23.5.0->classiq) (10.6.0)\n",
      "\n",
      "\u001b[1m[\u001b[0m\u001b[34;49mnotice\u001b[0m\u001b[1;39;49m]\u001b[0m\u001b[39;49m A new release of pip is available: \u001b[0m\u001b[31;49m24.2\u001b[0m\u001b[39;49m -> \u001b[0m\u001b[32;49m25.0\u001b[0m\n",
      "\u001b[1m[\u001b[0m\u001b[34;49mnotice\u001b[0m\u001b[1;39;49m]\u001b[0m\u001b[39;49m To update, run: \u001b[0m\u001b[32;49mpip install --upgrade pip\u001b[0m\n",
      "Note: you may need to restart the kernel to use updated packages.\n"
     ]
    }
   ],
   "source": [
    "%pip install -U classiq"
   ]
  },
  {
   "cell_type": "markdown",
   "metadata": {},
   "source": [
    "2. Authenticate your device against the Classiq backend:"
   ]
  },
  {
   "cell_type": "code",
   "execution_count": 1,
   "metadata": {
    "ExecuteTime": {
     "end_time": "2024-08-20T09:02:54.079140Z",
     "start_time": "2024-08-20T09:02:52.607680Z"
    }
   },
   "outputs": [],
   "source": [
    "import classiq\n",
    "# classiq.authenticate() # Uncoment to authenticate. For the first (local) run only"
   ]
  },
  {
   "cell_type": "markdown",
   "metadata": {},
   "source": [
    "## The Challenge"
   ]
  },
  {
   "cell_type": "markdown",
   "metadata": {},
   "source": [
    "### Imports"
   ]
  },
  {
   "cell_type": "markdown",
   "metadata": {},
   "source": [
    "You might import additional libraries as long as you solve the challenge using primarily Classiq."
   ]
  },
  {
   "cell_type": "code",
   "execution_count": 2,
   "metadata": {
    "ExecuteTime": {
     "end_time": "2024-08-20T09:05:10.590102Z",
     "start_time": "2024-08-20T09:05:10.585150Z"
    },
    "tags": []
   },
   "outputs": [],
   "source": [
    "# All the imports needed:\n",
    "from classiq import *\n",
    "from classiq.execution import *\n",
    "from classiq.qmod.symbolic import *\n",
    "import numpy as np\n",
    "import matplotlib.pyplot as plt\n",
    "from collections import defaultdict"
   ]
  },
  {
   "cell_type": "markdown",
   "metadata": {},
   "source": [
    "### The Heart of the Code - Build Your Algorithm Here"
   ]
  },
  {
   "cell_type": "code",
   "execution_count": 13,
   "metadata": {},
   "outputs": [],
   "source": [
    "## TODO: Write Your Functions Here ## (Final)\n",
    "\n",
    "def create_solution(resolution: int): # Don't change!\n",
    "    fraction_digits = resolution - 2  # Don't change!\n",
    "    EXP_RATE = 1                     # Don't change!\n",
    "\n",
    "\n",
    "    ## TODO: Write Your Functions Here: ##\n",
    " \n",
    "    num_points = 2 ** (resolution + 1) # Number of points depends on resolution\n",
    "    x_values = np.linspace(-2, 2, num_points, endpoint=False)\n",
    "\n",
    "    # Compute Gaussian probabilities\n",
    "    gaussian_values = np.exp(-EXP_RATE * x_values ** 2)\n",
    "\n",
    "    n = len(gaussian_values)\n",
    "    start_idx = n // 4  # First fourth\n",
    "    end_idx = n - (n // 4)  # Last fourth\n",
    "\n",
    "    # Extract the middle two-thirds\n",
    "    gaussian_values = gaussian_values[start_idx:end_idx]\n",
    "\n",
    "    gaussian_values = 1 - gaussian_values\n",
    "\n",
    "    gaussian_values = gaussian_values ** 2\n",
    "    # Normalize the probabilities so they sum to 1\n",
    "    normalized_gaussian_values = gaussian_values / np.sum(gaussian_values)\n",
    "    #print(normalized_gaussian_values)\n",
    "    normalized_gaussian_list = normalized_gaussian_values.tolist()\n",
    "    print(normalized_gaussian_list)\n",
    "    # Adapt This Function! \n",
    "    @qfunc\n",
    "    def prepare_gaussian(x: QNum):      \n",
    "        # Prepare the state using the Gaussian probabilities\n",
    "        inplace_prepare_state(probabilities=normalized_gaussian_list, bound=0.001, target=x)\n",
    "        # inplace_prepare_state(probabilities=probs, bound=0.01, target=x)\n",
    "\n",
    "        \n",
    "    return prepare_gaussian\n"
   ]
  },
  {
   "cell_type": "code",
   "execution_count": 36,
   "metadata": {},
   "outputs": [],
   "source": [
    "## TODO: Write Your Functions Here ## (Final)\n",
    "\n",
    "from math import pi\n",
    "\n",
    "# Define custom gate functions\n",
    "@qfunc\n",
    "def Y_help(x: QArray, index: CInt, theta: CReal):\n",
    "        Y(x[index], theta)\n",
    "\n",
    "\n",
    "@qfunc\n",
    "def R_help(x: QArray, index: CInt, theta: CReal, phi: CReal):\n",
    "        R(theta, phi, x[index])\n",
    "\n",
    "@qfunc\n",
    "def U3_help(x: QArray, index: CInt, theta: CReal, phi: CReal, lam: CReal):\n",
    "        U(theta, phi, lam, 0, x[index])\n",
    "\n",
    "@qfunc\n",
    "def CX_help(x: QArray, control: CInt, target: CInt):\n",
    "        CX(x[control], x[target])\n",
    "\n",
    "\n",
    "\n",
    "def create_solution_from_qis(resolution: int): # Don't change!\n",
    "    fraction_digits = resolution - 2  # Don't change!\n",
    "    EXP_RATE = 1                     # Don't change!\n",
    "\n",
    "    # Adapt This Function! \n",
    "    @qfunc\n",
    "    def prepare_gaussian(x: QNum):      \n",
    "        NUM_QUBITS = 3\n",
    "\n",
    "\n",
    "       # Gates on qubit 0\n",
    "        U3_help(x, 2, 1.25, -2 * pi, -pi / 2)  # U3 equivalent on q0\n",
    "\n",
    "        # Gates on qubit 1\n",
    "        U3_help(x, 1, 2.14, -2 * pi, -pi / 2)  # U on q1\n",
    "\n",
    "        # Gates on qubit 2\n",
    "        U3_help(x, 0, pi / 2, 0, 0)  # U3(pi/2, 0, 0) on q2\n",
    "\n",
    "        # CNOT and additional operations\n",
    "        CX_help(x, 0, 1)  # CNOT q0 -> q1\n",
    "        U3_help(x, 1, 0, 0.000482, -0.000482)  # Additional rotation on q1\n",
    "        CX_help(x, 1, 2)  # CNOT q1 -> q2\n",
    "        U3_help(x, 2, pi / 2, pi / 2, -pi / 2)  # Rotation on q0\n",
    "        CX_help(x, 0, 2)  # CNOT q0 -> q2\n",
    "        U3_help(x, 2, pi / 2, -pi / 2, 1.73)  # Custom U3 gate\n",
    "        CX_help(x, 1, 2)  # Final CNOT q1 -> q2\n",
    "        U3_help(x, 2, pi, 0.129, -3.01)  # Last operation\n",
    "            \n",
    "    return prepare_gaussian\n"
   ]
  },
  {
   "cell_type": "code",
   "execution_count": 6,
   "metadata": {},
   "outputs": [
    {
     "ename": "NameError",
     "evalue": "name 'result' is not defined",
     "output_type": "error",
     "traceback": [
      "\u001b[0;31m---------------------------------------------------------------------------\u001b[0m",
      "\u001b[0;31mNameError\u001b[0m                                 Traceback (most recent call last)",
      "Cell \u001b[0;32mIn[6], line 26\u001b[0m\n\u001b[1;32m     23\u001b[0m     CX(res[\u001b[38;5;241m1\u001b[39m], res[\u001b[38;5;241m2\u001b[39m])         \u001b[38;5;66;03m# CNOT from q1 to q2\u001b[39;00m\n\u001b[1;32m     24\u001b[0m     RY(res[\u001b[38;5;241m0\u001b[39m], \u001b[38;5;241m0.317\u001b[39m)          \u001b[38;5;66;03m# RY(0.317) on q0\u001b[39;00m\n\u001b[0;32m---> 26\u001b[0m \u001b[38;5;28mprint\u001b[39m(\u001b[43mresult\u001b[49m\u001b[38;5;241m.\u001b[39mvalue\u001b[38;5;241m.\u001b[39mparsed_counts)  \u001b[38;5;66;03m# Display results of execution\u001b[39;00m\n",
      "\u001b[0;31mNameError\u001b[0m: name 'result' is not defined"
     ]
    }
   ],
   "source": [
    "\n",
    "\n",
    "print()  # Display results of execution"
   ]
  },
  {
   "cell_type": "code",
   "execution_count": 16,
   "metadata": {},
   "outputs": [
    {
     "name": "stdout",
     "output_type": "stream",
     "text": [
      "[0.23624864276491442, 0.16920256228121303, 0.10943216221959877, 0.06182421542332728, 0.02892921584391244, 0.010175071699161752, 0.0021703385690355678, 0.00014211258129396572, 0.0, 0.00014211258129396572, 0.0021703385690355678, 0.010175071699161752, 0.02892921584391244, 0.06182421542332728, 0.10943216221959877, 0.16920256228121303]\n"
     ]
    },
    {
     "data": {
      "text/plain": [
       "<classiq.qmod.quantum_function.QFunc at 0x313ebfa70>"
      ]
     },
     "execution_count": 16,
     "metadata": {},
     "output_type": "execute_result"
    }
   ],
   "source": [
    "create_solution(4)"
   ]
  },
  {
   "cell_type": "markdown",
   "metadata": {},
   "source": [
    "### Utils - Don't Change The Following Cell"
   ]
  },
  {
   "cell_type": "markdown",
   "metadata": {},
   "source": [
    "The following function would be called later to to synthesize the `.qprog` file for stage 1 & 2"
   ]
  },
  {
   "cell_type": "code",
   "execution_count": 7,
   "metadata": {},
   "outputs": [],
   "source": [
    "# This function is used to generate the quantum model from the main function for stages 1 & 2 and synthesize it with all the appropriate parameters\n",
    "\n",
    "def create_qprog(prepare_gaussian_function, resolution: int, num_shots: int=1, optimization_parameter: str=\"CX\", stage=int):\n",
    "    fraction_digits = resolution - 2\n",
    "    \n",
    "    @qfunc\n",
    "    def main(x: Output[QNum[resolution, SIGNED, fraction_digits]]):\n",
    "        # Allocate the quantum variable x with the specified resolution\n",
    "        allocate(x.size, x)\n",
    "\n",
    "        # Prepare Gaussian state\n",
    "        prepare_gaussian_function(x)\n",
    "\n",
    "\n",
    "    # Backend preferences for the state vector simulator\n",
    "    backend_preferences = ClassiqBackendPreferences(\n",
    "        backend_name=ClassiqSimulatorBackendNames.SIMULATOR_STATEVECTOR\n",
    "    )\n",
    "\n",
    "    # Generate the quantum model with constraints by stage\n",
    "    if stage==1:\n",
    "        qmod = create_model(\n",
    "            main,\n",
    "            execution_preferences=ExecutionPreferences(\n",
    "                num_shots=num_shots, backend_preferences=backend_preferences\n",
    "            ),\n",
    "            constraints=Constraints(\n",
    "                max_width=18, optimization_parameter=optimization_parameter\n",
    "            ),\n",
    "        )\n",
    "    elif stage==2:\n",
    "        qmod = create_model(\n",
    "            main,\n",
    "            preferences = Preferences(timeout_seconds=1000),\n",
    "            execution_preferences=ExecutionPreferences(\n",
    "                num_shots=num_shots, backend_preferences=backend_preferences\n",
    "            ),\n",
    "            constraints=Constraints(\n",
    "                max_width=127, optimization_parameter=optimization_parameter\n",
    "            ),\n",
    "        )\n",
    "    else:\n",
    "        return \"The `stage` variable should be set as Int to be either 1 or 2\"\n",
    "        \n",
    "\n",
    "    # Synthesize the quantum program\n",
    "    qprog = synthesize(qmod)\n",
    "\n",
    "    return qprog"
   ]
  },
  {
   "cell_type": "markdown",
   "metadata": {},
   "source": [
    "## Evaluate Your Results"
   ]
  },
  {
   "cell_type": "markdown",
   "metadata": {},
   "source": [
    "### Quantum Program - Stage 1"
   ]
  },
  {
   "cell_type": "markdown",
   "metadata": {},
   "source": [
    "<details markdown>\n",
    "<summary><b>Reminder!</b></summary>\n",
    "\n",
    "With `backend_name=ClassiqSimulatorBackendNames.SIMULATOR_STATEVECTOR`, you can simulate circuits with up to **18 qubits**. You may use as many of these qubits as needed without affecting your score at this stage. \n",
    "\n",
    "The goal is to achieve a **small MSE** (beyond the threshold) while minimizing the **complexity** of your quantum program. Here, \"complexity\" specifically refers to its **size**, measured by metrics like **depth** and ** count**.\n",
    "\n",
    "</details>\n"
   ]
  },
  {
   "cell_type": "markdown",
   "metadata": {},
   "source": [
    "**Don't Change The Following Cell!**"
   ]
  },
  {
   "cell_type": "code",
   "execution_count": 33,
   "metadata": {},
   "outputs": [],
   "source": [
    "# Creating stage's 1 `.qprog` file\n",
    "resolution_stage_1 = 3 # Don't change!\n",
    "qprog_stage_1 = create_qprog(create_solution_from_qis(resolution_stage_1), resolution_stage_1, stage=1)"
   ]
  },
  {
   "cell_type": "markdown",
   "metadata": {},
   "source": [
    "Uncomment to display the quantum program:"
   ]
  },
  {
   "cell_type": "code",
   "execution_count": 10,
   "metadata": {},
   "outputs": [
    {
     "name": "stdout",
     "output_type": "stream",
     "text": [
      "Opening: https://platform.classiq.io/circuit/2sTySelr0a67323QK5OpbfLTztD?version=0.66.1\n"
     ]
    }
   ],
   "source": [
    "show(qprog_stage_1)"
   ]
  },
  {
   "cell_type": "code",
   "execution_count": 34,
   "metadata": {},
   "outputs": [],
   "source": [
    "result_stage_1 = execute(qprog_stage_1).get_sample_result()"
   ]
  },
  {
   "cell_type": "markdown",
   "metadata": {},
   "source": [
    "Uncomment to view the parsed circuit results after executing your algorithm:"
   ]
  },
  {
   "cell_type": "code",
   "execution_count": 234,
   "metadata": {},
   "outputs": [
    {
     "data": {
      "text/plain": [
       "[SimulatedState(state={'x': 0.25}, bitstring='000010000', amplitude=(0.0639262133976983+0.06392621339769716j)),\n",
       " SimulatedState(state={'x': 0.265625}, bitstring='000010001', amplitude=(0.0639262133976983+0.06392621339769716j)),\n",
       " SimulatedState(state={'x': 0.28125}, bitstring='000010010', amplitude=(0.0639262133976983+0.06392621339769716j)),\n",
       " SimulatedState(state={'x': 0.296875}, bitstring='000010011', amplitude=(0.0639262133976983+0.06392621339769716j)),\n",
       " SimulatedState(state={'x': 0.3125}, bitstring='000010100', amplitude=(0.0639262133976983+0.06392621339769716j)),\n",
       " SimulatedState(state={'x': 0.328125}, bitstring='000010101', amplitude=(0.0639262133976983+0.06392621339769716j)),\n",
       " SimulatedState(state={'x': 0.34375}, bitstring='000010110', amplitude=(0.0639262133976983+0.06392621339769716j)),\n",
       " SimulatedState(state={'x': 0.375}, bitstring='000011000', amplitude=(0.0639262133976983+0.06392621339769716j)),\n",
       " SimulatedState(state={'x': 0.390625}, bitstring='000011001', amplitude=(0.0639262133976983+0.06392621339769716j)),\n",
       " SimulatedState(state={'x': 0.40625}, bitstring='000011010', amplitude=(0.0639262133976983+0.06392621339769716j)),\n",
       " SimulatedState(state={'x': 0.4375}, bitstring='000011100', amplitude=(0.0639262133976983+0.06392621339769716j)),\n",
       " SimulatedState(state={'x': 0.0}, bitstring='000000000', amplitude=(0.06392621339769824+0.06392621339769713j)),\n",
       " SimulatedState(state={'x': 0.015625}, bitstring='000000001', amplitude=(0.06392621339769824+0.06392621339769713j)),\n",
       " SimulatedState(state={'x': 0.03125}, bitstring='000000010', amplitude=(0.06392621339769824+0.06392621339769713j)),\n",
       " SimulatedState(state={'x': 0.046875}, bitstring='000000011', amplitude=(0.06392621339769824+0.06392621339769713j)),\n",
       " SimulatedState(state={'x': 0.0625}, bitstring='000000100', amplitude=(0.06392621339769824+0.06392621339769713j)),\n",
       " SimulatedState(state={'x': 0.078125}, bitstring='000000101', amplitude=(0.06392621339769824+0.06392621339769713j)),\n",
       " SimulatedState(state={'x': 0.09375}, bitstring='000000110', amplitude=(0.06392621339769824+0.06392621339769713j)),\n",
       " SimulatedState(state={'x': 0.125}, bitstring='000001000', amplitude=(0.06392621339769824+0.06392621339769713j)),\n",
       " SimulatedState(state={'x': 0.140625}, bitstring='000001001', amplitude=(0.06392621339769824+0.06392621339769713j)),\n",
       " SimulatedState(state={'x': 0.15625}, bitstring='000001010', amplitude=(0.06392621339769824+0.06392621339769713j)),\n",
       " SimulatedState(state={'x': 0.1875}, bitstring='000001100', amplitude=(0.06392621339769824+0.06392621339769713j)),\n",
       " SimulatedState(state={'x': 0.359375}, bitstring='000010111', amplitude=(0.06392621339769827+0.06392621339769711j)),\n",
       " SimulatedState(state={'x': 0.421875}, bitstring='000011011', amplitude=(0.06392621339769827+0.06392621339769711j)),\n",
       " SimulatedState(state={'x': 0.453125}, bitstring='000011101', amplitude=(0.06392621339769827+0.06392621339769711j)),\n",
       " SimulatedState(state={'x': 0.46875}, bitstring='000011110', amplitude=(0.06392621339769827+0.06392621339769711j)),\n",
       " SimulatedState(state={'x': 0.484375}, bitstring='000011111', amplitude=(0.06392621339769827+0.06392621339769711j)),\n",
       " SimulatedState(state={'x': 0.109375}, bitstring='000000111', amplitude=(0.06392621339769823+0.06392621339769705j)),\n",
       " SimulatedState(state={'x': 0.171875}, bitstring='000001011', amplitude=(0.06392621339769823+0.06392621339769705j)),\n",
       " SimulatedState(state={'x': 0.203125}, bitstring='000001101', amplitude=(0.06392621339769823+0.06392621339769705j)),\n",
       " SimulatedState(state={'x': 0.21875}, bitstring='000001110', amplitude=(0.06392621339769823+0.06392621339769705j)),\n",
       " SimulatedState(state={'x': 0.234375}, bitstring='000001111', amplitude=(0.06392621339769823+0.06392621339769705j)),\n",
       " SimulatedState(state={'x': -0.25}, bitstring='011110000', amplitude=(0.06374507344557884+0.06374507344557764j)),\n",
       " SimulatedState(state={'x': -0.234375}, bitstring='011110001', amplitude=(0.06374507344557884+0.06374507344557764j)),\n",
       " SimulatedState(state={'x': -0.21875}, bitstring='011110010', amplitude=(0.06374507344557884+0.06374507344557764j)),\n",
       " SimulatedState(state={'x': -0.1875}, bitstring='011110100', amplitude=(0.06374507344557884+0.06374507344557764j)),\n",
       " SimulatedState(state={'x': -0.125}, bitstring='011111000', amplitude=(0.06374507344557884+0.06374507344557764j)),\n",
       " SimulatedState(state={'x': -0.203125}, bitstring='011110011', amplitude=(0.06374507344557884+0.06374507344557763j)),\n",
       " SimulatedState(state={'x': -0.171875}, bitstring='011110101', amplitude=(0.06374507344557884+0.06374507344557763j)),\n",
       " SimulatedState(state={'x': -0.15625}, bitstring='011110110', amplitude=(0.06374507344557884+0.06374507344557763j)),\n",
       " SimulatedState(state={'x': -0.140625}, bitstring='011110111', amplitude=(0.06374507344557884+0.06374507344557763j)),\n",
       " SimulatedState(state={'x': -0.109375}, bitstring='011111001', amplitude=(0.06374507344557884+0.06374507344557763j)),\n",
       " SimulatedState(state={'x': -0.09375}, bitstring='011111010', amplitude=(0.06374507344557884+0.06374507344557763j)),\n",
       " SimulatedState(state={'x': -0.078125}, bitstring='011111011', amplitude=(0.06374507344557884+0.06374507344557763j)),\n",
       " SimulatedState(state={'x': -0.0625}, bitstring='011111100', amplitude=(0.06374507344557884+0.06374507344557763j)),\n",
       " SimulatedState(state={'x': -0.046875}, bitstring='011111101', amplitude=(0.06374507344557884+0.06374507344557763j)),\n",
       " SimulatedState(state={'x': -0.03125}, bitstring='011111110', amplitude=(0.06374507344557884+0.06374507344557763j)),\n",
       " SimulatedState(state={'x': -0.015625}, bitstring='011111111', amplitude=(0.06374507344557881+0.06374507344557759j)),\n",
       " SimulatedState(state={'x': -0.5}, bitstring='011100000', amplitude=(0.06374507344557875+0.0637450734455776j)),\n",
       " SimulatedState(state={'x': -0.484375}, bitstring='011100001', amplitude=(0.06374507344557875+0.0637450734455776j)),\n",
       " SimulatedState(state={'x': -0.46875}, bitstring='011100010', amplitude=(0.06374507344557875+0.0637450734455776j)),\n",
       " SimulatedState(state={'x': -0.4375}, bitstring='011100100', amplitude=(0.06374507344557875+0.0637450734455776j)),\n",
       " SimulatedState(state={'x': -0.375}, bitstring='011101000', amplitude=(0.06374507344557875+0.0637450734455776j)),\n",
       " SimulatedState(state={'x': -0.453125}, bitstring='011100011', amplitude=(0.06374507344557875+0.06374507344557759j)),\n",
       " SimulatedState(state={'x': -0.421875}, bitstring='011100101', amplitude=(0.06374507344557875+0.06374507344557759j)),\n",
       " SimulatedState(state={'x': -0.40625}, bitstring='011100110', amplitude=(0.06374507344557875+0.06374507344557759j)),\n",
       " SimulatedState(state={'x': -0.390625}, bitstring='011100111', amplitude=(0.06374507344557875+0.06374507344557759j)),\n",
       " SimulatedState(state={'x': -0.359375}, bitstring='011101001', amplitude=(0.06374507344557875+0.06374507344557759j)),\n",
       " SimulatedState(state={'x': -0.34375}, bitstring='011101010', amplitude=(0.06374507344557875+0.06374507344557759j)),\n",
       " SimulatedState(state={'x': -0.328125}, bitstring='011101011', amplitude=(0.06374507344557875+0.06374507344557759j)),\n",
       " SimulatedState(state={'x': -0.3125}, bitstring='011101100', amplitude=(0.06374507344557875+0.06374507344557759j)),\n",
       " SimulatedState(state={'x': -0.296875}, bitstring='011101101', amplitude=(0.06374507344557875+0.06374507344557759j)),\n",
       " SimulatedState(state={'x': -0.28125}, bitstring='011101110', amplitude=(0.06374507344557875+0.06374507344557759j)),\n",
       " SimulatedState(state={'x': -0.265625}, bitstring='011101111', amplitude=(0.06374507344557873+0.06374507344557756j)),\n",
       " SimulatedState(state={'x': 0.5}, bitstring='000100000', amplitude=(0.057244600821615296+0.05724460082161435j)),\n",
       " SimulatedState(state={'x': 0.515625}, bitstring='000100001', amplitude=(0.057244600821615296+0.05724460082161435j)),\n",
       " SimulatedState(state={'x': 0.53125}, bitstring='000100010', amplitude=(0.057244600821615296+0.05724460082161435j)),\n",
       " SimulatedState(state={'x': 0.546875}, bitstring='000100011', amplitude=(0.057244600821615296+0.05724460082161435j)),\n",
       " SimulatedState(state={'x': 0.5625}, bitstring='000100100', amplitude=(0.057244600821615296+0.05724460082161435j)),\n",
       " SimulatedState(state={'x': 0.578125}, bitstring='000100101', amplitude=(0.057244600821615296+0.05724460082161435j)),\n",
       " SimulatedState(state={'x': 0.59375}, bitstring='000100110', amplitude=(0.057244600821615296+0.05724460082161435j)),\n",
       " SimulatedState(state={'x': 0.625}, bitstring='000101000', amplitude=(0.057244600821615296+0.05724460082161435j)),\n",
       " SimulatedState(state={'x': 0.640625}, bitstring='000101001', amplitude=(0.057244600821615296+0.05724460082161435j)),\n",
       " SimulatedState(state={'x': 0.65625}, bitstring='000101010', amplitude=(0.057244600821615296+0.05724460082161435j)),\n",
       " SimulatedState(state={'x': 0.6875}, bitstring='000101100', amplitude=(0.057244600821615296+0.05724460082161435j)),\n",
       " SimulatedState(state={'x': 0.609375}, bitstring='000100111', amplitude=(0.05724460082161528+0.05724460082161434j)),\n",
       " SimulatedState(state={'x': 0.671875}, bitstring='000101011', amplitude=(0.05724460082161528+0.05724460082161434j)),\n",
       " SimulatedState(state={'x': 0.703125}, bitstring='000101101', amplitude=(0.05724460082161528+0.05724460082161434j)),\n",
       " SimulatedState(state={'x': 0.71875}, bitstring='000101110', amplitude=(0.05724460082161528+0.05724460082161434j)),\n",
       " SimulatedState(state={'x': 0.734375}, bitstring='000101111', amplitude=(0.05724460082161528+0.05724460082161434j)),\n",
       " SimulatedState(state={'x': -0.75}, bitstring='011010000', amplitude=(0.056808778207823145+0.056808778207822194j)),\n",
       " SimulatedState(state={'x': -0.734375}, bitstring='011010001', amplitude=(0.056808778207823145+0.056808778207822194j)),\n",
       " SimulatedState(state={'x': -0.71875}, bitstring='011010010', amplitude=(0.056808778207823145+0.056808778207822194j)),\n",
       " SimulatedState(state={'x': -0.6875}, bitstring='011010100', amplitude=(0.056808778207823145+0.056808778207822194j)),\n",
       " SimulatedState(state={'x': -0.625}, bitstring='011011000', amplitude=(0.056808778207823145+0.056808778207822194j)),\n",
       " SimulatedState(state={'x': -0.703125}, bitstring='011010011', amplitude=(0.056808778207823096+0.05680877820782215j)),\n",
       " SimulatedState(state={'x': -0.671875}, bitstring='011010101', amplitude=(0.056808778207823096+0.05680877820782215j)),\n",
       " SimulatedState(state={'x': -0.65625}, bitstring='011010110', amplitude=(0.056808778207823096+0.05680877820782215j)),\n",
       " SimulatedState(state={'x': -0.640625}, bitstring='011010111', amplitude=(0.056808778207823096+0.05680877820782215j)),\n",
       " SimulatedState(state={'x': -0.609375}, bitstring='011011001', amplitude=(0.056808778207823096+0.05680877820782215j)),\n",
       " SimulatedState(state={'x': -0.59375}, bitstring='011011010', amplitude=(0.056808778207823096+0.05680877820782215j)),\n",
       " SimulatedState(state={'x': -0.578125}, bitstring='011011011', amplitude=(0.056808778207823096+0.05680877820782215j)),\n",
       " SimulatedState(state={'x': -0.5625}, bitstring='011011100', amplitude=(0.056808778207823096+0.05680877820782215j)),\n",
       " SimulatedState(state={'x': -0.546875}, bitstring='011011101', amplitude=(0.056808778207823096+0.05680877820782215j)),\n",
       " SimulatedState(state={'x': -0.53125}, bitstring='011011110', amplitude=(0.056808778207823096+0.05680877820782215j)),\n",
       " SimulatedState(state={'x': -0.515625}, bitstring='011011111', amplitude=(0.0568087782078231+0.05680877820782211j)),\n",
       " SimulatedState(state={'x': 0.75}, bitstring='000110000', amplitude=(0.04859325732138126+0.04859325732138047j)),\n",
       " SimulatedState(state={'x': 0.765625}, bitstring='000110001', amplitude=(0.04859325732138126+0.04859325732138047j)),\n",
       " SimulatedState(state={'x': 0.78125}, bitstring='000110010', amplitude=(0.04859325732138126+0.04859325732138047j)),\n",
       " SimulatedState(state={'x': 0.796875}, bitstring='000110011', amplitude=(0.04859325732138126+0.04859325732138047j)),\n",
       " SimulatedState(state={'x': 0.8125}, bitstring='000110100', amplitude=(0.04859325732138126+0.04859325732138047j)),\n",
       " SimulatedState(state={'x': 0.828125}, bitstring='000110101', amplitude=(0.04859325732138126+0.04859325732138047j)),\n",
       " SimulatedState(state={'x': 0.84375}, bitstring='000110110', amplitude=(0.04859325732138126+0.04859325732138047j)),\n",
       " SimulatedState(state={'x': 0.875}, bitstring='000111000', amplitude=(0.04859325732138126+0.04859325732138047j)),\n",
       " SimulatedState(state={'x': 0.890625}, bitstring='000111001', amplitude=(0.04859325732138126+0.04859325732138047j)),\n",
       " SimulatedState(state={'x': 0.90625}, bitstring='000111010', amplitude=(0.04859325732138126+0.04859325732138047j)),\n",
       " SimulatedState(state={'x': 0.9375}, bitstring='000111100', amplitude=(0.04859325732138126+0.04859325732138047j)),\n",
       " SimulatedState(state={'x': 0.859375}, bitstring='000110111', amplitude=(0.04859325732138124+0.04859325732138045j)),\n",
       " SimulatedState(state={'x': 0.921875}, bitstring='000111011', amplitude=(0.04859325732138124+0.04859325732138045j)),\n",
       " SimulatedState(state={'x': 0.953125}, bitstring='000111101', amplitude=(0.04859325732138124+0.04859325732138045j)),\n",
       " SimulatedState(state={'x': 0.96875}, bitstring='000111110', amplitude=(0.04859325732138124+0.04859325732138045j)),\n",
       " SimulatedState(state={'x': 0.984375}, bitstring='000111111', amplitude=(0.04859325732138124+0.04859325732138045j)),\n",
       " SimulatedState(state={'x': -1.0}, bitstring='011000000', amplitude=(0.04793301227084609+0.04793301227084532j)),\n",
       " SimulatedState(state={'x': -0.984375}, bitstring='011000001', amplitude=(0.04793301227084609+0.04793301227084532j)),\n",
       " SimulatedState(state={'x': -0.96875}, bitstring='011000010', amplitude=(0.04793301227084609+0.04793301227084532j)),\n",
       " SimulatedState(state={'x': -0.9375}, bitstring='011000100', amplitude=(0.04793301227084609+0.04793301227084532j)),\n",
       " SimulatedState(state={'x': -0.875}, bitstring='011001000', amplitude=(0.04793301227084609+0.04793301227084532j)),\n",
       " SimulatedState(state={'x': -0.953125}, bitstring='011000011', amplitude=(0.04793301227084605+0.04793301227084529j)),\n",
       " SimulatedState(state={'x': -0.921875}, bitstring='011000101', amplitude=(0.04793301227084605+0.04793301227084529j)),\n",
       " SimulatedState(state={'x': -0.90625}, bitstring='011000110', amplitude=(0.04793301227084605+0.04793301227084529j)),\n",
       " SimulatedState(state={'x': -0.890625}, bitstring='011000111', amplitude=(0.04793301227084605+0.04793301227084529j)),\n",
       " SimulatedState(state={'x': -0.859375}, bitstring='011001001', amplitude=(0.04793301227084605+0.04793301227084529j)),\n",
       " SimulatedState(state={'x': -0.84375}, bitstring='011001010', amplitude=(0.04793301227084605+0.04793301227084529j)),\n",
       " SimulatedState(state={'x': -0.828125}, bitstring='011001011', amplitude=(0.04793301227084605+0.04793301227084529j)),\n",
       " SimulatedState(state={'x': -0.8125}, bitstring='011001100', amplitude=(0.04793301227084605+0.04793301227084529j)),\n",
       " SimulatedState(state={'x': -0.796875}, bitstring='011001101', amplitude=(0.04793301227084605+0.04793301227084529j)),\n",
       " SimulatedState(state={'x': -0.78125}, bitstring='011001110', amplitude=(0.04793301227084605+0.04793301227084529j)),\n",
       " SimulatedState(state={'x': -0.765625}, bitstring='011001111', amplitude=(0.04793301227084606+0.04793301227084526j)),\n",
       " SimulatedState(state={'x': 1.25}, bitstring='001010000', amplitude=(0.030396225402754763+0.030396225402754176j)),\n",
       " SimulatedState(state={'x': 1.265625}, bitstring='001010001', amplitude=(0.030396225402754763+0.030396225402754176j)),\n",
       " SimulatedState(state={'x': 1.28125}, bitstring='001010010', amplitude=(0.030396225402754763+0.030396225402754176j)),\n",
       " SimulatedState(state={'x': 1.296875}, bitstring='001010011', amplitude=(0.030396225402754763+0.030396225402754176j)),\n",
       " SimulatedState(state={'x': 1.3125}, bitstring='001010100', amplitude=(0.030396225402754763+0.030396225402754176j)),\n",
       " SimulatedState(state={'x': 1.328125}, bitstring='001010101', amplitude=(0.030396225402754763+0.030396225402754176j)),\n",
       " SimulatedState(state={'x': 1.34375}, bitstring='001010110', amplitude=(0.030396225402754763+0.030396225402754176j)),\n",
       " SimulatedState(state={'x': 1.359375}, bitstring='001010111', amplitude=(0.030396225402754763+0.030396225402754176j)),\n",
       " SimulatedState(state={'x': 1.375}, bitstring='001011000', amplitude=(0.030396225402754763+0.030396225402754176j)),\n",
       " SimulatedState(state={'x': 1.390625}, bitstring='001011001', amplitude=(0.030396225402754763+0.030396225402754176j)),\n",
       " SimulatedState(state={'x': 1.40625}, bitstring='001011010', amplitude=(0.030396225402754763+0.030396225402754176j)),\n",
       " SimulatedState(state={'x': 1.421875}, bitstring='001011011', amplitude=(0.030396225402754763+0.030396225402754176j)),\n",
       " SimulatedState(state={'x': 1.4375}, bitstring='001011100', amplitude=(0.030396225402754763+0.030396225402754176j)),\n",
       " SimulatedState(state={'x': 1.453125}, bitstring='001011101', amplitude=(0.030396225402754763+0.030396225402754176j)),\n",
       " SimulatedState(state={'x': 1.46875}, bitstring='001011110', amplitude=(0.030396225402754763+0.030396225402754176j)),\n",
       " SimulatedState(state={'x': 1.484375}, bitstring='001011111', amplitude=(0.030396225402754738+0.030396225402754166j)),\n",
       " SimulatedState(state={'x': 1.0}, bitstring='001000000', amplitude=(0.03039622540275473+0.030396225402754145j)),\n",
       " SimulatedState(state={'x': 1.015625}, bitstring='001000001', amplitude=(0.03039622540275473+0.030396225402754145j)),\n",
       " SimulatedState(state={'x': 1.03125}, bitstring='001000010', amplitude=(0.03039622540275473+0.030396225402754145j)),\n",
       " SimulatedState(state={'x': 1.0625}, bitstring='001000100', amplitude=(0.03039622540275473+0.030396225402754145j)),\n",
       " SimulatedState(state={'x': 1.109375}, bitstring='001000111', amplitude=(0.03039622540275473+0.030396225402754145j)),\n",
       " SimulatedState(state={'x': 1.125}, bitstring='001001000', amplitude=(0.03039622540275473+0.030396225402754145j)),\n",
       " SimulatedState(state={'x': 1.171875}, bitstring='001001011', amplitude=(0.03039622540275473+0.030396225402754145j)),\n",
       " SimulatedState(state={'x': 1.203125}, bitstring='001001101', amplitude=(0.03039622540275473+0.030396225402754145j)),\n",
       " SimulatedState(state={'x': 1.21875}, bitstring='001001110', amplitude=(0.03039622540275473+0.030396225402754145j)),\n",
       " SimulatedState(state={'x': 1.046875}, bitstring='001000011', amplitude=(0.030396225402754724+0.03039622540275414j)),\n",
       " SimulatedState(state={'x': 1.078125}, bitstring='001000101', amplitude=(0.030396225402754724+0.03039622540275414j)),\n",
       " SimulatedState(state={'x': 1.09375}, bitstring='001000110', amplitude=(0.030396225402754724+0.03039622540275414j)),\n",
       " SimulatedState(state={'x': 1.140625}, bitstring='001001001', amplitude=(0.030396225402754724+0.03039622540275414j)),\n",
       " SimulatedState(state={'x': 1.15625}, bitstring='001001010', amplitude=(0.030396225402754724+0.03039622540275414j)),\n",
       " SimulatedState(state={'x': 1.1875}, bitstring='001001100', amplitude=(0.030396225402754724+0.03039622540275414j)),\n",
       " SimulatedState(state={'x': 1.234375}, bitstring='001001111', amplitude=(0.030396225402754717+0.030396225402754135j)),\n",
       " SimulatedState(state={'x': -1.25}, bitstring='010110000', amplitude=(0.02956857591126283+0.029568575911262315j)),\n",
       " SimulatedState(state={'x': -1.234375}, bitstring='010110001', amplitude=(0.02956857591126283+0.029568575911262315j)),\n",
       " SimulatedState(state={'x': -1.21875}, bitstring='010110010', amplitude=(0.02956857591126283+0.029568575911262315j)),\n",
       " SimulatedState(state={'x': -1.203125}, bitstring='010110011', amplitude=(0.029568575911262825+0.029568575911262315j)),\n",
       " SimulatedState(state={'x': -1.1875}, bitstring='010110100', amplitude=(0.02956857591126283+0.029568575911262315j)),\n",
       " SimulatedState(state={'x': -1.171875}, bitstring='010110101', amplitude=(0.029568575911262825+0.029568575911262315j)),\n",
       " SimulatedState(state={'x': -1.15625}, bitstring='010110110', amplitude=(0.029568575911262825+0.029568575911262315j)),\n",
       " SimulatedState(state={'x': -1.125}, bitstring='010111000', amplitude=(0.02956857591126283+0.029568575911262315j)),\n",
       " SimulatedState(state={'x': -1.109375}, bitstring='010111001', amplitude=(0.029568575911262825+0.029568575911262315j)),\n",
       " SimulatedState(state={'x': -1.09375}, bitstring='010111010', amplitude=(0.029568575911262825+0.029568575911262315j)),\n",
       " SimulatedState(state={'x': -1.0625}, bitstring='010111100', amplitude=(0.029568575911262825+0.029568575911262315j)),\n",
       " SimulatedState(state={'x': -1.140625}, bitstring='010110111', amplitude=(0.029568575911262822+0.029568575911262315j)),\n",
       " SimulatedState(state={'x': -1.078125}, bitstring='010111011', amplitude=(0.029568575911262822+0.029568575911262315j)),\n",
       " SimulatedState(state={'x': -1.046875}, bitstring='010111101', amplitude=(0.029568575911262822+0.029568575911262315j)),\n",
       " SimulatedState(state={'x': -1.03125}, bitstring='010111110', amplitude=(0.029568575911262822+0.029568575911262315j)),\n",
       " SimulatedState(state={'x': -1.015625}, bitstring='010111111', amplitude=(0.02956857591126281+0.029568575911262315j)),\n",
       " SimulatedState(state={'x': -1.453125}, bitstring='010100011', amplitude=(0.0295685759112628+0.029568575911262298j)),\n",
       " SimulatedState(state={'x': -1.421875}, bitstring='010100101', amplitude=(0.0295685759112628+0.029568575911262298j)),\n",
       " SimulatedState(state={'x': -1.40625}, bitstring='010100110', amplitude=(0.0295685759112628+0.029568575911262298j)),\n",
       " SimulatedState(state={'x': -1.359375}, bitstring='010101001', amplitude=(0.0295685759112628+0.029568575911262298j)),\n",
       " SimulatedState(state={'x': -1.34375}, bitstring='010101010', amplitude=(0.0295685759112628+0.029568575911262298j)),\n",
       " SimulatedState(state={'x': -1.3125}, bitstring='010101100', amplitude=(0.0295685759112628+0.029568575911262298j)),\n",
       " SimulatedState(state={'x': -1.5}, bitstring='010100000', amplitude=(0.029568575911262808+0.029568575911262288j)),\n",
       " SimulatedState(state={'x': -1.484375}, bitstring='010100001', amplitude=(0.029568575911262808+0.029568575911262288j)),\n",
       " SimulatedState(state={'x': -1.46875}, bitstring='010100010', amplitude=(0.029568575911262808+0.029568575911262288j)),\n",
       " SimulatedState(state={'x': -1.4375}, bitstring='010100100', amplitude=(0.029568575911262808+0.029568575911262288j)),\n",
       " SimulatedState(state={'x': -1.390625}, bitstring='010100111', amplitude=(0.0295685759112628+0.029568575911262295j)),\n",
       " SimulatedState(state={'x': -1.375}, bitstring='010101000', amplitude=(0.029568575911262808+0.029568575911262288j)),\n",
       " SimulatedState(state={'x': -1.328125}, bitstring='010101011', amplitude=(0.0295685759112628+0.029568575911262295j)),\n",
       " SimulatedState(state={'x': -1.296875}, bitstring='010101101', amplitude=(0.0295685759112628+0.029568575911262295j)),\n",
       " SimulatedState(state={'x': -1.28125}, bitstring='010101110', amplitude=(0.0295685759112628+0.029568575911262295j)),\n",
       " SimulatedState(state={'x': -1.265625}, bitstring='010101111', amplitude=(0.029568575911262787+0.029568575911262288j)),\n",
       " SimulatedState(state={'x': 1.796875}, bitstring='001110011', amplitude=(0.0071473422691535945+0.007147342269153548j)),\n",
       " SimulatedState(state={'x': 1.828125}, bitstring='001110101', amplitude=(0.0071473422691535945+0.007147342269153548j)),\n",
       " SimulatedState(state={'x': 1.84375}, bitstring='001110110', amplitude=(0.0071473422691535945+0.007147342269153548j)),\n",
       " SimulatedState(state={'x': 1.890625}, bitstring='001111001', amplitude=(0.0071473422691535945+0.007147342269153548j)),\n",
       " SimulatedState(state={'x': 1.90625}, bitstring='001111010', amplitude=(0.0071473422691535945+0.007147342269153548j)),\n",
       " SimulatedState(state={'x': 1.9375}, bitstring='001111100', amplitude=(0.0071473422691535945+0.007147342269153548j)),\n",
       " SimulatedState(state={'x': 1.75}, bitstring='001110000', amplitude=(0.007147342269153587+0.007147342269153544j)),\n",
       " SimulatedState(state={'x': 1.765625}, bitstring='001110001', amplitude=(0.007147342269153587+0.007147342269153544j)),\n",
       " SimulatedState(state={'x': 1.78125}, bitstring='001110010', amplitude=(0.007147342269153587+0.007147342269153544j)),\n",
       " SimulatedState(state={'x': 1.8125}, bitstring='001110100', amplitude=(0.007147342269153587+0.007147342269153544j)),\n",
       " SimulatedState(state={'x': 1.859375}, bitstring='001110111', amplitude=(0.007147342269153587+0.007147342269153544j)),\n",
       " SimulatedState(state={'x': 1.875}, bitstring='001111000', amplitude=(0.007147342269153587+0.007147342269153544j)),\n",
       " SimulatedState(state={'x': 1.921875}, bitstring='001111011', amplitude=(0.007147342269153587+0.007147342269153544j)),\n",
       " SimulatedState(state={'x': 1.953125}, bitstring='001111101', amplitude=(0.007147342269153587+0.007147342269153544j)),\n",
       " SimulatedState(state={'x': 1.96875}, bitstring='001111110', amplitude=(0.007147342269153587+0.007147342269153544j)),\n",
       " SimulatedState(state={'x': 1.546875}, bitstring='001100011', amplitude=(0.007147342269153587+0.007147342269153542j)),\n",
       " SimulatedState(state={'x': 1.578125}, bitstring='001100101', amplitude=(0.007147342269153587+0.007147342269153542j)),\n",
       " SimulatedState(state={'x': 1.59375}, bitstring='001100110', amplitude=(0.007147342269153587+0.007147342269153542j)),\n",
       " SimulatedState(state={'x': 1.640625}, bitstring='001101001', amplitude=(0.007147342269153587+0.007147342269153542j)),\n",
       " SimulatedState(state={'x': 1.65625}, bitstring='001101010', amplitude=(0.007147342269153587+0.007147342269153542j)),\n",
       " SimulatedState(state={'x': 1.6875}, bitstring='001101100', amplitude=(0.007147342269153587+0.007147342269153542j)),\n",
       " SimulatedState(state={'x': 1.984375}, bitstring='001111111', amplitude=(0.007147342269153589+0.007147342269153539j)),\n",
       " SimulatedState(state={'x': 1.5}, bitstring='001100000', amplitude=(0.007147342269153581+0.007147342269153542j)),\n",
       " SimulatedState(state={'x': 1.515625}, bitstring='001100001', amplitude=(0.007147342269153581+0.007147342269153542j)),\n",
       " SimulatedState(state={'x': 1.53125}, bitstring='001100010', amplitude=(0.007147342269153581+0.007147342269153542j)),\n",
       " SimulatedState(state={'x': 1.5625}, bitstring='001100100', amplitude=(0.007147342269153581+0.007147342269153542j)),\n",
       " SimulatedState(state={'x': 1.609375}, bitstring='001100111', amplitude=(0.007147342269153581+0.007147342269153542j)),\n",
       " SimulatedState(state={'x': 1.625}, bitstring='001101000', amplitude=(0.007147342269153581+0.007147342269153542j)),\n",
       " SimulatedState(state={'x': 1.671875}, bitstring='001101011', amplitude=(0.007147342269153581+0.007147342269153542j)),\n",
       " SimulatedState(state={'x': 1.703125}, bitstring='001101101', amplitude=(0.007147342269153581+0.007147342269153542j)),\n",
       " SimulatedState(state={'x': 1.71875}, bitstring='001101110', amplitude=(0.007147342269153581+0.007147342269153542j)),\n",
       " SimulatedState(state={'x': 1.734375}, bitstring='001101111', amplitude=(0.007147342269153582+0.007147342269153533j)),\n",
       " SimulatedState(state={'x': -1.75}, bitstring='010010000', amplitude=(0.006645237904467546+0.006645237904467491j)),\n",
       " SimulatedState(state={'x': -1.734375}, bitstring='010010001', amplitude=(0.006645237904467546+0.006645237904467491j)),\n",
       " SimulatedState(state={'x': -1.71875}, bitstring='010010010', amplitude=(0.006645237904467546+0.006645237904467491j)),\n",
       " SimulatedState(state={'x': -1.6875}, bitstring='010010100', amplitude=(0.006645237904467546+0.006645237904467491j)),\n",
       " SimulatedState(state={'x': -1.625}, bitstring='010011000', amplitude=(0.006645237904467546+0.006645237904467491j)),\n",
       " SimulatedState(state={'x': -1.703125}, bitstring='010010011', amplitude=(0.0066452379044675425+0.0066452379044674905j)),\n",
       " SimulatedState(state={'x': -1.671875}, bitstring='010010101', amplitude=(0.0066452379044675425+0.0066452379044674905j)),\n",
       " SimulatedState(state={'x': -1.65625}, bitstring='010010110', amplitude=(0.0066452379044675425+0.0066452379044674905j)),\n",
       " SimulatedState(state={'x': -1.640625}, bitstring='010010111', amplitude=(0.0066452379044675495+0.006645237904467484j)),\n",
       " SimulatedState(state={'x': -1.609375}, bitstring='010011001', amplitude=(0.0066452379044675425+0.0066452379044674905j)),\n",
       " SimulatedState(state={'x': -1.59375}, bitstring='010011010', amplitude=(0.0066452379044675425+0.0066452379044674905j)),\n",
       " SimulatedState(state={'x': -1.578125}, bitstring='010011011', amplitude=(0.0066452379044675495+0.006645237904467484j)),\n",
       " SimulatedState(state={'x': -1.5625}, bitstring='010011100', amplitude=(0.0066452379044675425+0.0066452379044674905j)),\n",
       " SimulatedState(state={'x': -1.546875}, bitstring='010011101', amplitude=(0.0066452379044675495+0.006645237904467484j)),\n",
       " SimulatedState(state={'x': -1.53125}, bitstring='010011110', amplitude=(0.0066452379044675495+0.006645237904467484j)),\n",
       " SimulatedState(state={'x': -1.515625}, bitstring='010011111', amplitude=(0.006645237904467543+0.006645237904467485j)),\n",
       " SimulatedState(state={'x': -2.0}, bitstring='010000000', amplitude=(0.006645237904467541+0.006645237904467484j)),\n",
       " SimulatedState(state={'x': -1.984375}, bitstring='010000001', amplitude=(0.006645237904467541+0.006645237904467484j)),\n",
       " SimulatedState(state={'x': -1.96875}, bitstring='010000010', amplitude=(0.006645237904467541+0.006645237904467484j)),\n",
       " SimulatedState(state={'x': -1.9375}, bitstring='010000100', amplitude=(0.006645237904467541+0.006645237904467484j)),\n",
       " SimulatedState(state={'x': -1.875}, bitstring='010001000', amplitude=(0.006645237904467541+0.006645237904467484j)),\n",
       " SimulatedState(state={'x': -1.953125}, bitstring='010000011', amplitude=(0.006645237904467538+0.0066452379044674844j)),\n",
       " SimulatedState(state={'x': -1.921875}, bitstring='010000101', amplitude=(0.006645237904467538+0.0066452379044674844j)),\n",
       " SimulatedState(state={'x': -1.90625}, bitstring='010000110', amplitude=(0.006645237904467538+0.0066452379044674844j)),\n",
       " SimulatedState(state={'x': -1.890625}, bitstring='010000111', amplitude=(0.0066452379044675425+0.00664523790446748j)),\n",
       " SimulatedState(state={'x': -1.859375}, bitstring='010001001', amplitude=(0.006645237904467538+0.0066452379044674844j)),\n",
       " SimulatedState(state={'x': -1.84375}, bitstring='010001010', amplitude=(0.006645237904467538+0.0066452379044674844j)),\n",
       " SimulatedState(state={'x': -1.828125}, bitstring='010001011', amplitude=(0.0066452379044675425+0.00664523790446748j)),\n",
       " SimulatedState(state={'x': -1.8125}, bitstring='010001100', amplitude=(0.006645237904467538+0.0066452379044674844j)),\n",
       " SimulatedState(state={'x': -1.796875}, bitstring='010001101', amplitude=(0.0066452379044675425+0.00664523790446748j)),\n",
       " SimulatedState(state={'x': -1.78125}, bitstring='010001110', amplitude=(0.0066452379044675425+0.00664523790446748j)),\n",
       " SimulatedState(state={'x': -1.765625}, bitstring='010001111', amplitude=(0.006645237904467537+0.006645237904467478j)),\n",
       " SimulatedState(state={'x': 0.109375}, bitstring='100000111', amplitude=(2.7755575615628914e-17-5.551115123125783e-17j)),\n",
       " SimulatedState(state={'x': 0.171875}, bitstring='100001011', amplitude=(2.7755575615628914e-17-5.551115123125783e-17j)),\n",
       " SimulatedState(state={'x': 0.203125}, bitstring='100001101', amplitude=(2.7755575615628914e-17-5.551115123125783e-17j)),\n",
       " SimulatedState(state={'x': 0.21875}, bitstring='100001110', amplitude=(2.7755575615628914e-17-5.551115123125783e-17j)),\n",
       " SimulatedState(state={'x': 0.234375}, bitstring='100001111', amplitude=(2.7755575615628914e-17-5.551115123125783e-17j)),\n",
       " SimulatedState(state={'x': 0.359375}, bitstring='100010111', amplitude=(2.0816681711721685e-17-4.85722573273506e-17j)),\n",
       " SimulatedState(state={'x': 0.421875}, bitstring='100011011', amplitude=(2.0816681711721685e-17-4.85722573273506e-17j)),\n",
       " SimulatedState(state={'x': 0.453125}, bitstring='100011101', amplitude=(2.0816681711721685e-17-4.85722573273506e-17j)),\n",
       " SimulatedState(state={'x': 0.46875}, bitstring='100011110', amplitude=(2.0816681711721685e-17-4.85722573273506e-17j)),\n",
       " SimulatedState(state={'x': 0.484375}, bitstring='100011111', amplitude=(2.0816681711721685e-17-4.85722573273506e-17j)),\n",
       " SimulatedState(state={'x': 0.0}, bitstring='100000000', amplitude=(6.938893903907228e-18-4.85722573273506e-17j)),\n",
       " SimulatedState(state={'x': 0.015625}, bitstring='100000001', amplitude=(6.938893903907228e-18-4.85722573273506e-17j)),\n",
       " SimulatedState(state={'x': 0.03125}, bitstring='100000010', amplitude=(6.938893903907228e-18-4.85722573273506e-17j)),\n",
       " SimulatedState(state={'x': 0.046875}, bitstring='100000011', amplitude=(6.938893903907228e-18-4.85722573273506e-17j)),\n",
       " SimulatedState(state={'x': 0.0625}, bitstring='100000100', amplitude=(6.938893903907228e-18-4.85722573273506e-17j)),\n",
       " SimulatedState(state={'x': 0.078125}, bitstring='100000101', amplitude=(6.938893903907228e-18-4.85722573273506e-17j)),\n",
       " SimulatedState(state={'x': 0.09375}, bitstring='100000110', amplitude=(6.938893903907228e-18-4.85722573273506e-17j)),\n",
       " SimulatedState(state={'x': 0.125}, bitstring='100001000', amplitude=(6.938893903907228e-18-4.85722573273506e-17j)),\n",
       " SimulatedState(state={'x': 0.140625}, bitstring='100001001', amplitude=(6.938893903907228e-18-4.85722573273506e-17j)),\n",
       " SimulatedState(state={'x': 0.15625}, bitstring='100001010', amplitude=(6.938893903907228e-18-4.85722573273506e-17j)),\n",
       " SimulatedState(state={'x': 0.1875}, bitstring='100001100', amplitude=(6.938893903907228e-18-4.85722573273506e-17j)),\n",
       " SimulatedState(state={'x': 0.25}, bitstring='100010000', amplitude=(-6.938893903907228e-18-4.85722573273506e-17j)),\n",
       " SimulatedState(state={'x': 0.265625}, bitstring='100010001', amplitude=(-6.938893903907228e-18-4.85722573273506e-17j)),\n",
       " SimulatedState(state={'x': 0.28125}, bitstring='100010010', amplitude=(-6.938893903907228e-18-4.85722573273506e-17j)),\n",
       " SimulatedState(state={'x': 0.296875}, bitstring='100010011', amplitude=(-6.938893903907228e-18-4.85722573273506e-17j)),\n",
       " SimulatedState(state={'x': 0.3125}, bitstring='100010100', amplitude=(-6.938893903907228e-18-4.85722573273506e-17j)),\n",
       " SimulatedState(state={'x': 0.328125}, bitstring='100010101', amplitude=(-6.938893903907228e-18-4.85722573273506e-17j)),\n",
       " SimulatedState(state={'x': 0.34375}, bitstring='100010110', amplitude=(-6.938893903907228e-18-4.85722573273506e-17j)),\n",
       " SimulatedState(state={'x': 0.375}, bitstring='100011000', amplitude=(-6.938893903907228e-18-4.85722573273506e-17j)),\n",
       " SimulatedState(state={'x': 0.390625}, bitstring='100011001', amplitude=(-6.938893903907228e-18-4.85722573273506e-17j)),\n",
       " SimulatedState(state={'x': 0.40625}, bitstring='100011010', amplitude=(-6.938893903907228e-18-4.85722573273506e-17j)),\n",
       " SimulatedState(state={'x': 0.4375}, bitstring='100011100', amplitude=(-6.938893903907228e-18-4.85722573273506e-17j)),\n",
       " SimulatedState(state={'x': -0.25}, bitstring='111110000', amplitude=(6.938893903907228e-18-4.85722573273506e-17j)),\n",
       " SimulatedState(state={'x': -0.234375}, bitstring='111110001', amplitude=(6.938893903907228e-18-4.85722573273506e-17j)),\n",
       " SimulatedState(state={'x': -0.21875}, bitstring='111110010', amplitude=(6.938893903907228e-18-4.85722573273506e-17j)),\n",
       " SimulatedState(state={'x': -0.1875}, bitstring='111110100', amplitude=(6.938893903907228e-18-4.85722573273506e-17j)),\n",
       " SimulatedState(state={'x': -0.125}, bitstring='111111000', amplitude=(6.938893903907228e-18-4.85722573273506e-17j)),\n",
       " SimulatedState(state={'x': -0.453125}, bitstring='111100011', amplitude=(1.3877787807814457e-17-4.163336342344337e-17j)),\n",
       " SimulatedState(state={'x': -0.421875}, bitstring='111100101', amplitude=(1.3877787807814457e-17-4.163336342344337e-17j)),\n",
       " SimulatedState(state={'x': -0.40625}, bitstring='111100110', amplitude=(1.3877787807814457e-17-4.163336342344337e-17j)),\n",
       " SimulatedState(state={'x': -0.390625}, bitstring='111100111', amplitude=(1.3877787807814457e-17-4.163336342344337e-17j)),\n",
       " SimulatedState(state={'x': -0.359375}, bitstring='111101001', amplitude=(1.3877787807814457e-17-4.163336342344337e-17j)),\n",
       " SimulatedState(state={'x': -0.34375}, bitstring='111101010', amplitude=(1.3877787807814457e-17-4.163336342344337e-17j)),\n",
       " SimulatedState(state={'x': -0.328125}, bitstring='111101011', amplitude=(1.3877787807814457e-17-4.163336342344337e-17j)),\n",
       " SimulatedState(state={'x': -0.3125}, bitstring='111101100', amplitude=(1.3877787807814457e-17-4.163336342344337e-17j)),\n",
       " SimulatedState(state={'x': -0.296875}, bitstring='111101101', amplitude=(1.3877787807814457e-17-4.163336342344337e-17j)),\n",
       " SimulatedState(state={'x': -0.28125}, bitstring='111101110', amplitude=(1.3877787807814457e-17-4.163336342344337e-17j)),\n",
       " SimulatedState(state={'x': -0.265625}, bitstring='111101111', amplitude=(-2.0816681711721685e-17-3.469446951953614e-17j)),\n",
       " SimulatedState(state={'x': 0.75}, bitstring='100110000', amplitude=(-3.8163916471489756e-17+3.469446951953614e-18j)),\n",
       " SimulatedState(state={'x': 0.765625}, bitstring='100110001', amplitude=(-3.8163916471489756e-17+3.469446951953614e-18j)),\n",
       " SimulatedState(state={'x': 0.78125}, bitstring='100110010', amplitude=(-3.8163916471489756e-17+3.469446951953614e-18j)),\n",
       " SimulatedState(state={'x': 0.796875}, bitstring='100110011', amplitude=(-3.8163916471489756e-17+3.469446951953614e-18j)),\n",
       " SimulatedState(state={'x': 0.8125}, bitstring='100110100', amplitude=(-3.8163916471489756e-17+3.469446951953614e-18j)),\n",
       " SimulatedState(state={'x': 0.828125}, bitstring='100110101', amplitude=(-3.8163916471489756e-17+3.469446951953614e-18j)),\n",
       " SimulatedState(state={'x': 0.84375}, bitstring='100110110', amplitude=(-3.8163916471489756e-17+3.469446951953614e-18j)),\n",
       " SimulatedState(state={'x': 0.875}, bitstring='100111000', amplitude=(-3.8163916471489756e-17+3.469446951953614e-18j)),\n",
       " SimulatedState(state={'x': 0.890625}, bitstring='100111001', amplitude=(-3.8163916471489756e-17+3.469446951953614e-18j)),\n",
       " SimulatedState(state={'x': 0.90625}, bitstring='100111010', amplitude=(-3.8163916471489756e-17+3.469446951953614e-18j)),\n",
       " SimulatedState(state={'x': 0.9375}, bitstring='100111100', amplitude=(-3.8163916471489756e-17+3.469446951953614e-18j)),\n",
       " SimulatedState(state={'x': 0.859375}, bitstring='100110111', amplitude=(-3.469446951953614e-17-1.3877787807814457e-17j)),\n",
       " SimulatedState(state={'x': 0.921875}, bitstring='100111011', amplitude=(-3.469446951953614e-17-1.3877787807814457e-17j)),\n",
       " SimulatedState(state={'x': 0.953125}, bitstring='100111101', amplitude=(-3.469446951953614e-17-1.3877787807814457e-17j)),\n",
       " SimulatedState(state={'x': 0.96875}, bitstring='100111110', amplitude=(-3.469446951953614e-17-1.3877787807814457e-17j)),\n",
       " SimulatedState(state={'x': 0.984375}, bitstring='100111111', amplitude=(-3.469446951953614e-17-1.3877787807814457e-17j)),\n",
       " SimulatedState(state={'x': -0.203125}, bitstring='111110011', amplitude=(1.3877787807814457e-17-3.469446951953614e-17j)),\n",
       " SimulatedState(state={'x': -0.171875}, bitstring='111110101', amplitude=(1.3877787807814457e-17-3.469446951953614e-17j)),\n",
       " SimulatedState(state={'x': -0.15625}, bitstring='111110110', amplitude=(1.3877787807814457e-17-3.469446951953614e-17j)),\n",
       " SimulatedState(state={'x': -0.140625}, bitstring='111110111', amplitude=(1.3877787807814457e-17-3.469446951953614e-17j)),\n",
       " SimulatedState(state={'x': -0.109375}, bitstring='111111001', amplitude=(1.3877787807814457e-17-3.469446951953614e-17j)),\n",
       " SimulatedState(state={'x': -0.09375}, bitstring='111111010', amplitude=(1.3877787807814457e-17-3.469446951953614e-17j)),\n",
       " SimulatedState(state={'x': -0.078125}, bitstring='111111011', amplitude=(1.3877787807814457e-17-3.469446951953614e-17j)),\n",
       " SimulatedState(state={'x': -0.0625}, bitstring='111111100', amplitude=(1.3877787807814457e-17-3.469446951953614e-17j)),\n",
       " SimulatedState(state={'x': -0.046875}, bitstring='111111101', amplitude=(1.3877787807814457e-17-3.469446951953614e-17j)),\n",
       " SimulatedState(state={'x': -0.03125}, bitstring='111111110', amplitude=(1.3877787807814457e-17-3.469446951953614e-17j)),\n",
       " SimulatedState(state={'x': -0.5}, bitstring='111100000', amplitude=(-6.938893903907228e-18-3.469446951953614e-17j)),\n",
       " SimulatedState(state={'x': -0.484375}, bitstring='111100001', amplitude=(-6.938893903907228e-18-3.469446951953614e-17j)),\n",
       " SimulatedState(state={'x': -0.46875}, bitstring='111100010', amplitude=(-6.938893903907228e-18-3.469446951953614e-17j)),\n",
       " SimulatedState(state={'x': -0.4375}, bitstring='111100100', amplitude=(-6.938893903907228e-18-3.469446951953614e-17j)),\n",
       " SimulatedState(state={'x': -0.375}, bitstring='111101000', amplitude=(-6.938893903907228e-18-3.469446951953614e-17j)),\n",
       " SimulatedState(state={'x': 0.5}, bitstring='100100000', amplitude=(-3.469446951953614e-17+0j)),\n",
       " SimulatedState(state={'x': 0.515625}, bitstring='100100001', amplitude=(-3.469446951953614e-17+0j)),\n",
       " SimulatedState(state={'x': 0.53125}, bitstring='100100010', amplitude=(-3.469446951953614e-17+0j)),\n",
       " SimulatedState(state={'x': 0.546875}, bitstring='100100011', amplitude=(-3.469446951953614e-17+0j)),\n",
       " SimulatedState(state={'x': 0.5625}, bitstring='100100100', amplitude=(-3.469446951953614e-17+0j)),\n",
       " SimulatedState(state={'x': 0.578125}, bitstring='100100101', amplitude=(-3.469446951953614e-17+0j)),\n",
       " SimulatedState(state={'x': 0.59375}, bitstring='100100110', amplitude=(-3.469446951953614e-17+0j)),\n",
       " SimulatedState(state={'x': 0.609375}, bitstring='100100111', amplitude=(-2.7755575615628914e-17-2.0816681711721685e-17j)),\n",
       " SimulatedState(state={'x': 0.625}, bitstring='100101000', amplitude=(-3.469446951953614e-17+0j)),\n",
       " SimulatedState(state={'x': 0.640625}, bitstring='100101001', amplitude=(-3.469446951953614e-17+0j)),\n",
       " SimulatedState(state={'x': 0.65625}, bitstring='100101010', amplitude=(-3.469446951953614e-17+0j)),\n",
       " SimulatedState(state={'x': 0.671875}, bitstring='100101011', amplitude=(-2.7755575615628914e-17-2.0816681711721685e-17j)),\n",
       " SimulatedState(state={'x': 0.6875}, bitstring='100101100', amplitude=(-3.469446951953614e-17+0j)),\n",
       " SimulatedState(state={'x': 0.703125}, bitstring='100101101', amplitude=(-2.7755575615628914e-17-2.0816681711721685e-17j)),\n",
       " SimulatedState(state={'x': 0.71875}, bitstring='100101110', amplitude=(-2.7755575615628914e-17-2.0816681711721685e-17j)),\n",
       " SimulatedState(state={'x': 0.734375}, bitstring='100101111', amplitude=(-2.7755575615628914e-17-2.0816681711721685e-17j)),\n",
       " SimulatedState(state={'x': -0.515625}, bitstring='111011111', amplitude=(-3.122502256758253e-17-1.3877787807814457e-17j)),\n",
       " SimulatedState(state={'x': -1.0}, bitstring='111000000', amplitude=(-2.7755575615628914e-17-1.0408340855860843e-17j)),\n",
       " SimulatedState(state={'x': -0.984375}, bitstring='111000001', amplitude=(-2.7755575615628914e-17-1.0408340855860843e-17j)),\n",
       " SimulatedState(state={'x': -0.96875}, bitstring='111000010', amplitude=(-2.7755575615628914e-17-1.0408340855860843e-17j)),\n",
       " SimulatedState(state={'x': -0.9375}, bitstring='111000100', amplitude=(-2.7755575615628914e-17-1.0408340855860843e-17j)),\n",
       " SimulatedState(state={'x': -0.875}, bitstring='111001000', amplitude=(-2.7755575615628914e-17-1.0408340855860843e-17j)),\n",
       " SimulatedState(state={'x': -0.015625}, bitstring='111111111', amplitude=(-6.938893903907228e-18-2.7755575615628914e-17j)),\n",
       " SimulatedState(state={'x': 1.484375}, bitstring='101011111', amplitude=(-2.6020852139652106e-17-1.0408340855860843e-17j)),\n",
       " SimulatedState(state={'x': -0.765625}, bitstring='111001111', amplitude=(-2.42861286636753e-17-1.3877787807814457e-17j)),\n",
       " SimulatedState(state={'x': -0.75}, bitstring='111010000', amplitude=(-2.42861286636753e-17-1.0408340855860843e-17j)),\n",
       " SimulatedState(state={'x': -0.734375}, bitstring='111010001', amplitude=(-2.42861286636753e-17-1.0408340855860843e-17j)),\n",
       " SimulatedState(state={'x': -0.71875}, bitstring='111010010', amplitude=(-2.42861286636753e-17-1.0408340855860843e-17j)),\n",
       " SimulatedState(state={'x': -0.703125}, bitstring='111010011', amplitude=(-2.42861286636753e-17-1.0408340855860843e-17j)),\n",
       " SimulatedState(state={'x': -0.6875}, bitstring='111010100', amplitude=(-2.42861286636753e-17-1.0408340855860843e-17j)),\n",
       " SimulatedState(state={'x': -0.671875}, bitstring='111010101', amplitude=(-2.42861286636753e-17-1.0408340855860843e-17j)),\n",
       " SimulatedState(state={'x': -0.65625}, bitstring='111010110', amplitude=(-2.42861286636753e-17-1.0408340855860843e-17j)),\n",
       " SimulatedState(state={'x': -0.640625}, bitstring='111010111', amplitude=(-2.42861286636753e-17-1.0408340855860843e-17j)),\n",
       " SimulatedState(state={'x': -0.625}, bitstring='111011000', amplitude=(-2.42861286636753e-17-1.0408340855860843e-17j)),\n",
       " SimulatedState(state={'x': -0.609375}, bitstring='111011001', amplitude=(-2.42861286636753e-17-1.0408340855860843e-17j)),\n",
       " SimulatedState(state={'x': -0.59375}, bitstring='111011010', amplitude=(-2.42861286636753e-17-1.0408340855860843e-17j)),\n",
       " SimulatedState(state={'x': -0.578125}, bitstring='111011011', amplitude=(-2.42861286636753e-17-1.0408340855860843e-17j)),\n",
       " SimulatedState(state={'x': -0.5625}, bitstring='111011100', amplitude=(-2.42861286636753e-17-1.0408340855860843e-17j)),\n",
       " SimulatedState(state={'x': -0.546875}, bitstring='111011101', amplitude=(-2.42861286636753e-17-1.0408340855860843e-17j)),\n",
       " SimulatedState(state={'x': -0.53125}, bitstring='111011110', amplitude=(-2.42861286636753e-17-1.0408340855860843e-17j)),\n",
       " SimulatedState(state={'x': 1.234375}, bitstring='101001111', amplitude=(-2.0816681711721685e-17-1.3877787807814457e-17j)),\n",
       " SimulatedState(state={'x': -1.265625}, bitstring='110101111', amplitude=(-1.734723475976807e-17-1.214306433183765e-17j)),\n",
       " SimulatedState(state={'x': -0.953125}, bitstring='111000011', amplitude=(-2.0816681711721685e-17+0j)),\n",
       " SimulatedState(state={'x': -0.921875}, bitstring='111000101', amplitude=(-2.0816681711721685e-17+0j)),\n",
       " SimulatedState(state={'x': -0.90625}, bitstring='111000110', amplitude=(-2.0816681711721685e-17+0j)),\n",
       " SimulatedState(state={'x': -0.890625}, bitstring='111000111', amplitude=(-2.0816681711721685e-17+0j)),\n",
       " SimulatedState(state={'x': -0.859375}, bitstring='111001001', amplitude=(-2.0816681711721685e-17+0j)),\n",
       " SimulatedState(state={'x': -0.84375}, bitstring='111001010', amplitude=(-2.0816681711721685e-17+0j)),\n",
       " SimulatedState(state={'x': -0.828125}, bitstring='111001011', amplitude=(-2.0816681711721685e-17+0j)),\n",
       " SimulatedState(state={'x': -0.8125}, bitstring='111001100', amplitude=(-2.0816681711721685e-17+0j)),\n",
       " SimulatedState(state={'x': -0.796875}, bitstring='111001101', amplitude=(-2.0816681711721685e-17+0j)),\n",
       " SimulatedState(state={'x': -0.78125}, bitstring='111001110', amplitude=(-2.0816681711721685e-17+0j)),\n",
       " SimulatedState(state={'x': -1.203125}, bitstring='110110011', amplitude=(-1.5612511283791264e-17-1.214306433183765e-17j)),\n",
       " SimulatedState(state={'x': -1.171875}, bitstring='110110101', amplitude=(-1.5612511283791264e-17-1.214306433183765e-17j)),\n",
       " SimulatedState(state={'x': -1.15625}, bitstring='110110110', amplitude=(-1.5612511283791264e-17-1.214306433183765e-17j)),\n",
       " SimulatedState(state={'x': -1.109375}, bitstring='110111001', amplitude=(-1.5612511283791264e-17-1.214306433183765e-17j)),\n",
       " SimulatedState(state={'x': -1.09375}, bitstring='110111010', amplitude=(-1.5612511283791264e-17-1.214306433183765e-17j)),\n",
       " SimulatedState(state={'x': -1.0625}, bitstring='110111100', amplitude=(-1.5612511283791264e-17-1.214306433183765e-17j)),\n",
       " SimulatedState(state={'x': -1.140625}, bitstring='110110111', amplitude=(-1.3877787807814457e-17-1.3877787807814457e-17j)),\n",
       " SimulatedState(state={'x': -1.078125}, bitstring='110111011', amplitude=(-1.3877787807814457e-17-1.3877787807814457e-17j)),\n",
       " SimulatedState(state={'x': -1.046875}, bitstring='110111101', amplitude=(-1.3877787807814457e-17-1.3877787807814457e-17j)),\n",
       " SimulatedState(state={'x': -1.03125}, bitstring='110111110', amplitude=(-1.3877787807814457e-17-1.3877787807814457e-17j)),\n",
       " SimulatedState(state={'x': -1.015625}, bitstring='110111111', amplitude=(-1.734723475976807e-17-6.938893903907228e-18j)),\n",
       " SimulatedState(state={'x': 1.25}, bitstring='101010000', amplitude=(-1.3877787807814457e-17-1.0408340855860843e-17j)),\n",
       " SimulatedState(state={'x': 1.265625}, bitstring='101010001', amplitude=(-1.3877787807814457e-17-1.0408340855860843e-17j)),\n",
       " SimulatedState(state={'x': 1.28125}, bitstring='101010010', amplitude=(-1.3877787807814457e-17-1.0408340855860843e-17j)),\n",
       " SimulatedState(state={'x': 1.3125}, bitstring='101010100', amplitude=(-1.3877787807814457e-17-1.0408340855860843e-17j)),\n",
       " SimulatedState(state={'x': 1.359375}, bitstring='101010111', amplitude=(-1.3877787807814457e-17-1.0408340855860843e-17j)),\n",
       " SimulatedState(state={'x': 1.375}, bitstring='101011000', amplitude=(-1.3877787807814457e-17-1.0408340855860843e-17j)),\n",
       " SimulatedState(state={'x': 1.421875}, bitstring='101011011', amplitude=(-1.3877787807814457e-17-1.0408340855860843e-17j)),\n",
       " SimulatedState(state={'x': 1.453125}, bitstring='101011101', amplitude=(-1.3877787807814457e-17-1.0408340855860843e-17j)),\n",
       " SimulatedState(state={'x': 1.46875}, bitstring='101011110', amplitude=(-1.3877787807814457e-17-1.0408340855860843e-17j)),\n",
       " SimulatedState(state={'x': -1.25}, bitstring='110110000', amplitude=(-1.5612511283791264e-17-5.204170427930421e-18j)),\n",
       " SimulatedState(state={'x': -1.234375}, bitstring='110110001', amplitude=(-1.5612511283791264e-17-5.204170427930421e-18j)),\n",
       " SimulatedState(state={'x': -1.21875}, bitstring='110110010', amplitude=(-1.5612511283791264e-17-5.204170427930421e-18j)),\n",
       " SimulatedState(state={'x': -1.1875}, bitstring='110110100', amplitude=(-1.5612511283791264e-17-5.204170427930421e-18j)),\n",
       " SimulatedState(state={'x': -1.125}, bitstring='110111000', amplitude=(-1.5612511283791264e-17-5.204170427930421e-18j)),\n",
       " SimulatedState(state={'x': -1.453125}, bitstring='110100011', amplitude=(-1.3877787807814457e-17-8.673617379884035e-18j)),\n",
       " SimulatedState(state={'x': -1.421875}, bitstring='110100101', amplitude=(-1.3877787807814457e-17-8.673617379884035e-18j)),\n",
       " SimulatedState(state={'x': -1.40625}, bitstring='110100110', amplitude=(-1.3877787807814457e-17-8.673617379884035e-18j)),\n",
       " SimulatedState(state={'x': -1.359375}, bitstring='110101001', amplitude=(-1.3877787807814457e-17-8.673617379884035e-18j)),\n",
       " SimulatedState(state={'x': -1.34375}, bitstring='110101010', amplitude=(-1.3877787807814457e-17-8.673617379884035e-18j)),\n",
       " SimulatedState(state={'x': -1.3125}, bitstring='110101100', amplitude=(-1.3877787807814457e-17-8.673617379884035e-18j)),\n",
       " SimulatedState(state={'x': 1.0}, bitstring='101000000', amplitude=(-1.214306433183765e-17-8.673617379884035e-18j)),\n",
       " SimulatedState(state={'x': 1.015625}, bitstring='101000001', amplitude=(-1.214306433183765e-17-8.673617379884035e-18j)),\n",
       " SimulatedState(state={'x': 1.03125}, bitstring='101000010', amplitude=(-1.214306433183765e-17-8.673617379884035e-18j)),\n",
       " SimulatedState(state={'x': 1.0625}, bitstring='101000100', amplitude=(-1.214306433183765e-17-8.673617379884035e-18j)),\n",
       " SimulatedState(state={'x': 1.109375}, bitstring='101000111', amplitude=(-1.214306433183765e-17-8.673617379884035e-18j)),\n",
       " SimulatedState(state={'x': 1.125}, bitstring='101001000', amplitude=(-1.214306433183765e-17-8.673617379884035e-18j)),\n",
       " SimulatedState(state={'x': 1.171875}, bitstring='101001011', amplitude=(-1.214306433183765e-17-8.673617379884035e-18j)),\n",
       " SimulatedState(state={'x': 1.203125}, bitstring='101001101', amplitude=(-1.214306433183765e-17-8.673617379884035e-18j)),\n",
       " SimulatedState(state={'x': 1.21875}, bitstring='101001110', amplitude=(-1.214306433183765e-17-8.673617379884035e-18j)),\n",
       " SimulatedState(state={'x': 1.296875}, bitstring='101010011', amplitude=(-1.3877787807814457e-17-5.204170427930421e-18j)),\n",
       " SimulatedState(state={'x': 1.328125}, bitstring='101010101', amplitude=(-1.3877787807814457e-17-5.204170427930421e-18j)),\n",
       " SimulatedState(state={'x': 1.34375}, bitstring='101010110', amplitude=(-1.3877787807814457e-17-5.204170427930421e-18j)),\n",
       " SimulatedState(state={'x': 1.390625}, bitstring='101011001', amplitude=(-1.3877787807814457e-17-5.204170427930421e-18j)),\n",
       " SimulatedState(state={'x': 1.40625}, bitstring='101011010', amplitude=(-1.3877787807814457e-17-5.204170427930421e-18j)),\n",
       " SimulatedState(state={'x': 1.4375}, bitstring='101011100', amplitude=(-1.3877787807814457e-17-5.204170427930421e-18j)),\n",
       " SimulatedState(state={'x': -1.390625}, bitstring='110100111', amplitude=(-1.0408340855860843e-17-1.0408340855860843e-17j)),\n",
       " SimulatedState(state={'x': -1.328125}, bitstring='110101011', amplitude=(-1.0408340855860843e-17-1.0408340855860843e-17j)),\n",
       " SimulatedState(state={'x': -1.296875}, bitstring='110101101', amplitude=(-1.0408340855860843e-17-1.0408340855860843e-17j)),\n",
       " SimulatedState(state={'x': -1.28125}, bitstring='110101110', amplitude=(-1.0408340855860843e-17-1.0408340855860843e-17j)),\n",
       " SimulatedState(state={'x': 1.046875}, bitstring='101000011', amplitude=(-1.214306433183765e-17-3.469446951953614e-18j)),\n",
       " SimulatedState(state={'x': 1.078125}, bitstring='101000101', amplitude=(-1.214306433183765e-17-3.469446951953614e-18j)),\n",
       " SimulatedState(state={'x': 1.09375}, bitstring='101000110', amplitude=(-1.214306433183765e-17-3.469446951953614e-18j)),\n",
       " SimulatedState(state={'x': 1.140625}, bitstring='101001001', amplitude=(-1.214306433183765e-17-3.469446951953614e-18j)),\n",
       " SimulatedState(state={'x': 1.15625}, bitstring='101001010', amplitude=(-1.214306433183765e-17-3.469446951953614e-18j)),\n",
       " SimulatedState(state={'x': 1.1875}, bitstring='101001100', amplitude=(-1.214306433183765e-17-3.469446951953614e-18j)),\n",
       " SimulatedState(state={'x': -1.5}, bitstring='110100000', amplitude=(-1.214306433183765e-17+0j)),\n",
       " SimulatedState(state={'x': -1.484375}, bitstring='110100001', amplitude=(-1.214306433183765e-17+0j)),\n",
       " SimulatedState(state={'x': -1.46875}, bitstring='110100010', amplitude=(-1.214306433183765e-17+0j)),\n",
       " SimulatedState(state={'x': -1.4375}, bitstring='110100100', amplitude=(-1.214306433183765e-17+0j)),\n",
       " SimulatedState(state={'x': -1.375}, bitstring='110101000', amplitude=(-1.214306433183765e-17+0j)),\n",
       " SimulatedState(state={'x': 1.734375}, bitstring='101101111', amplitude=(-8.673617379884035e-19-6.5052130349130266e-18j)),\n",
       " SimulatedState(state={'x': 1.546875}, bitstring='101100011', amplitude=(-4.336808689942018e-19-5.637851296924623e-18j)),\n",
       " SimulatedState(state={'x': 1.578125}, bitstring='101100101', amplitude=(-4.336808689942018e-19-5.637851296924623e-18j)),\n",
       " SimulatedState(state={'x': 1.59375}, bitstring='101100110', amplitude=(-4.336808689942018e-19-5.637851296924623e-18j)),\n",
       " SimulatedState(state={'x': 1.640625}, bitstring='101101001', amplitude=(-4.336808689942018e-19-5.637851296924623e-18j)),\n",
       " SimulatedState(state={'x': 1.65625}, bitstring='101101010', amplitude=(-4.336808689942018e-19-5.637851296924623e-18j)),\n",
       " SimulatedState(state={'x': 1.6875}, bitstring='101101100', amplitude=(-4.336808689942018e-19-5.637851296924623e-18j)),\n",
       " SimulatedState(state={'x': 1.796875}, bitstring='101110011', amplitude=-5.637851296924623e-18j),\n",
       " SimulatedState(state={'x': 1.828125}, bitstring='101110101', amplitude=-5.637851296924623e-18j),\n",
       " SimulatedState(state={'x': 1.84375}, bitstring='101110110', amplitude=-5.637851296924623e-18j),\n",
       " SimulatedState(state={'x': 1.890625}, bitstring='101111001', amplitude=-5.637851296924623e-18j),\n",
       " SimulatedState(state={'x': 1.90625}, bitstring='101111010', amplitude=-5.637851296924623e-18j),\n",
       " SimulatedState(state={'x': 1.9375}, bitstring='101111100', amplitude=-5.637851296924623e-18j),\n",
       " SimulatedState(state={'x': -2.0}, bitstring='110000000', amplitude=(8.673617379884035e-19-5.204170427930421e-18j)),\n",
       " SimulatedState(state={'x': -1.984375}, bitstring='110000001', amplitude=(8.673617379884035e-19-5.204170427930421e-18j)),\n",
       " SimulatedState(state={'x': -1.96875}, bitstring='110000010', amplitude=(8.673617379884035e-19-5.204170427930421e-18j)),\n",
       " SimulatedState(state={'x': -1.9375}, bitstring='110000100', amplitude=(8.673617379884035e-19-5.204170427930421e-18j)),\n",
       " SimulatedState(state={'x': -1.875}, bitstring='110001000', amplitude=(8.673617379884035e-19-5.204170427930421e-18j)),\n",
       " SimulatedState(state={'x': 1.984375}, bitstring='101111111', amplitude=-5.204170427930421e-18j),\n",
       " SimulatedState(state={'x': -1.75}, bitstring='110010000', amplitude=(-8.673617379884035e-19-4.7704895589362195e-18j)),\n",
       " SimulatedState(state={'x': -1.734375}, bitstring='110010001', amplitude=(-8.673617379884035e-19-4.7704895589362195e-18j)),\n",
       " SimulatedState(state={'x': -1.71875}, bitstring='110010010', amplitude=(-8.673617379884035e-19-4.7704895589362195e-18j)),\n",
       " SimulatedState(state={'x': -1.6875}, bitstring='110010100', amplitude=(-8.673617379884035e-19-4.7704895589362195e-18j)),\n",
       " SimulatedState(state={'x': -1.640625}, bitstring='110010111', amplitude=(-2.168404344971009e-18-4.336808689942018e-18j)),\n",
       " SimulatedState(state={'x': -1.625}, bitstring='110011000', amplitude=(-8.673617379884035e-19-4.7704895589362195e-18j)),\n",
       " SimulatedState(state={'x': -1.578125}, bitstring='110011011', amplitude=(-2.168404344971009e-18-4.336808689942018e-18j)),\n",
       " SimulatedState(state={'x': -1.546875}, bitstring='110011101', amplitude=(-2.168404344971009e-18-4.336808689942018e-18j)),\n",
       " SimulatedState(state={'x': -1.53125}, bitstring='110011110', amplitude=(-2.168404344971009e-18-4.336808689942018e-18j)),\n",
       " SimulatedState(state={'x': -1.765625}, bitstring='110001111', amplitude=(4.336808689942018e-19-4.7704895589362195e-18j)),\n",
       " SimulatedState(state={'x': -1.515625}, bitstring='110011111', amplitude=(-4.336808689942018e-19-4.7704895589362195e-18j)),\n",
       " SimulatedState(state={'x': -1.953125}, bitstring='110000011', amplitude=-4.7704895589362195e-18j),\n",
       " SimulatedState(state={'x': -1.921875}, bitstring='110000101', amplitude=-4.7704895589362195e-18j),\n",
       " SimulatedState(state={'x': -1.90625}, bitstring='110000110', amplitude=-4.7704895589362195e-18j),\n",
       " SimulatedState(state={'x': -1.859375}, bitstring='110001001', amplitude=-4.7704895589362195e-18j),\n",
       " SimulatedState(state={'x': -1.84375}, bitstring='110001010', amplitude=-4.7704895589362195e-18j),\n",
       " SimulatedState(state={'x': -1.8125}, bitstring='110001100', amplitude=-4.7704895589362195e-18j),\n",
       " SimulatedState(state={'x': 1.5}, bitstring='101100000', amplitude=(-1.734723475976807e-18-4.336808689942018e-18j)),\n",
       " SimulatedState(state={'x': 1.515625}, bitstring='101100001', amplitude=(-1.734723475976807e-18-4.336808689942018e-18j)),\n",
       " SimulatedState(state={'x': 1.53125}, bitstring='101100010', amplitude=(-1.734723475976807e-18-4.336808689942018e-18j)),\n",
       " SimulatedState(state={'x': 1.5625}, bitstring='101100100', amplitude=(-1.734723475976807e-18-4.336808689942018e-18j)),\n",
       " SimulatedState(state={'x': 1.609375}, bitstring='101100111', amplitude=(-1.734723475976807e-18-4.336808689942018e-18j)),\n",
       " SimulatedState(state={'x': 1.625}, bitstring='101101000', amplitude=(-1.734723475976807e-18-4.336808689942018e-18j)),\n",
       " SimulatedState(state={'x': 1.671875}, bitstring='101101011', amplitude=(-1.734723475976807e-18-4.336808689942018e-18j)),\n",
       " SimulatedState(state={'x': 1.703125}, bitstring='101101101', amplitude=(-1.734723475976807e-18-4.336808689942018e-18j)),\n",
       " SimulatedState(state={'x': 1.71875}, bitstring='101101110', amplitude=(-1.734723475976807e-18-4.336808689942018e-18j)),\n",
       " SimulatedState(state={'x': -1.703125}, bitstring='110010011', amplitude=(-4.336808689942018e-19-4.336808689942018e-18j)),\n",
       " SimulatedState(state={'x': -1.671875}, bitstring='110010101', amplitude=(-4.336808689942018e-19-4.336808689942018e-18j)),\n",
       " SimulatedState(state={'x': -1.65625}, bitstring='110010110', amplitude=(-4.336808689942018e-19-4.336808689942018e-18j)),\n",
       " SimulatedState(state={'x': -1.609375}, bitstring='110011001', amplitude=(-4.336808689942018e-19-4.336808689942018e-18j)),\n",
       " SimulatedState(state={'x': -1.59375}, bitstring='110011010', amplitude=(-4.336808689942018e-19-4.336808689942018e-18j)),\n",
       " SimulatedState(state={'x': -1.5625}, bitstring='110011100', amplitude=(-4.336808689942018e-19-4.336808689942018e-18j)),\n",
       " SimulatedState(state={'x': -1.890625}, bitstring='110000111', amplitude=(-8.673617379884035e-19-3.903127820947816e-18j)),\n",
       " SimulatedState(state={'x': -1.828125}, bitstring='110001011', amplitude=(-8.673617379884035e-19-3.903127820947816e-18j)),\n",
       " SimulatedState(state={'x': -1.796875}, bitstring='110001101', amplitude=(-8.673617379884035e-19-3.903127820947816e-18j)),\n",
       " SimulatedState(state={'x': -1.78125}, bitstring='110001110', amplitude=(-8.673617379884035e-19-3.903127820947816e-18j)),\n",
       " SimulatedState(state={'x': 1.75}, bitstring='101110000', amplitude=(-4.336808689942018e-19-3.469446951953614e-18j)),\n",
       " SimulatedState(state={'x': 1.765625}, bitstring='101110001', amplitude=(-4.336808689942018e-19-3.469446951953614e-18j)),\n",
       " SimulatedState(state={'x': 1.78125}, bitstring='101110010', amplitude=(-4.336808689942018e-19-3.469446951953614e-18j)),\n",
       " SimulatedState(state={'x': 1.8125}, bitstring='101110100', amplitude=(-4.336808689942018e-19-3.469446951953614e-18j)),\n",
       " SimulatedState(state={'x': 1.859375}, bitstring='101110111', amplitude=(-4.336808689942018e-19-3.469446951953614e-18j)),\n",
       " SimulatedState(state={'x': 1.875}, bitstring='101111000', amplitude=(-4.336808689942018e-19-3.469446951953614e-18j)),\n",
       " SimulatedState(state={'x': 1.921875}, bitstring='101111011', amplitude=(-4.336808689942018e-19-3.469446951953614e-18j)),\n",
       " SimulatedState(state={'x': 1.953125}, bitstring='101111101', amplitude=(-4.336808689942018e-19-3.469446951953614e-18j)),\n",
       " SimulatedState(state={'x': 1.96875}, bitstring='101111110', amplitude=(-4.336808689942018e-19-3.469446951953614e-18j))]"
      ]
     },
     "execution_count": 234,
     "metadata": {},
     "output_type": "execute_result"
    }
   ],
   "source": [
    "result_stage_1.parsed_state_vector"
   ]
  },
  {
   "cell_type": "markdown",
   "metadata": {},
   "source": [
    "### Quantum Program - Stage 2"
   ]
  },
  {
   "cell_type": "markdown",
   "metadata": {},
   "source": [
    "<details markdown>\n",
    "<summary><b>Reminder!</b></summary>\n",
    "\n",
    "In Stage 2, you are expected to demonstrate the **scalability** of your algorithm by increasing the `resolution_stage_2` to a value of your choice. This stage is not expected to be executed on the state-vector simulator and is restricted by the **127-qubit limit**, marking the largest QPU commercially available. You can leverage as many qubits as necessary to showcase your solution's efficiency at higher resolutions.\n",
    "\n",
    "The goal is to highlight your approach's **scalability** and **efficiency** while ensuring the algorithm remains compact. Focus on minimizing the **complexity** of your quantum program, where \"complexity\" is measured by metrics like **depth** and ** count**. In this challenge,  count will be our measure.\n",
    "\n",
    "</details>"
   ]
  },
  {
   "cell_type": "markdown",
   "metadata": {},
   "source": [
    "Set the value of `resolution_stage_2` to your choice! "
   ]
  },
  {
   "cell_type": "code",
   "execution_count": 10,
   "metadata": {},
   "outputs": [],
   "source": [
    "# Creating the Stage 2 qprog object\n",
    "resolution_stage_2 = 4 # Change!\n",
    "qprog_stage_2 = create_qprog(create_solution(resolution_stage_2), resolution_stage_2, stage=2)"
   ]
  },
  {
   "cell_type": "markdown",
   "metadata": {},
   "source": [
    "Uncomment to display the quantum program:"
   ]
  },
  {
   "cell_type": "code",
   "execution_count": 11,
   "metadata": {},
   "outputs": [],
   "source": [
    "# show(qprog_stage_2) "
   ]
  },
  {
   "cell_type": "markdown",
   "metadata": {},
   "source": [
    "### Evaluation Functions"
   ]
  },
  {
   "cell_type": "markdown",
   "metadata": {},
   "source": [
    "Here are the grading functions for Stages 1 & 2.\\\n",
    "As mentioned, these functions will serve as the main tools for evaluating your algorithms.\\\n",
    "\\\n",
    "**Don't Change The Following Cell!**"
   ]
  },
  {
   "cell_type": "code",
   "execution_count": 12,
   "metadata": {
    "jupyter": {
     "source_hidden": true
    }
   },
   "outputs": [],
   "source": [
    "# Stage 1:\n",
    "\n",
    "def scatter_aggregated_amplitudes_with_theory(parsed_state_vector, resolution: int, should_plot: bool=True):\n",
    "    \"\"\"\n",
    "    Aggregate squared amplitudes by x, sum them, and scatter plot with theoretical distribution.\n",
    "    Also calculates Mean Squared Error (MSE).\n",
    "\n",
    "    Parameters:\n",
    "        res: Parsed state vector results (list of SimulatedState objects).\n",
    "        exp_rate: Exponential rate for the Gaussian distribution.\n",
    "        resolution: Number of qubits used in the Gaussian state.\n",
    "        should_plot: bool that allow you to choose if to plot the solution\n",
    "    \"\"\"\n",
    "    from collections import defaultdict\n",
    "    fraction_digits = resolution - 2\n",
    "    EXP_RATE = 1\n",
    "    \n",
    "    # Initialize a dictionary to store sums of squared amplitudes\n",
    "    amplitude_sums = defaultdict(int)\n",
    "    for state in parsed_state_vector:\n",
    "        amplitude_sums[state.state['x']] += np.abs(state.amplitude)**2\n",
    "\n",
    "    # Prepare data for plotting\n",
    "    x_values = sorted(amplitude_sums)  # Sort for meaningful plotting\n",
    "    summed_squared_norms = [amplitude_sums[x] for x in x_values]\n",
    "\n",
    "    # Generate theoretical Gaussian distribution\n",
    "    grid = np.linspace(-2**(resolution-fraction_digits-1), 2**(resolution-fraction_digits-1)-2**(-fraction_digits), 2**(resolution))\n",
    "\n",
    "    theoretical_gaussian = np.exp(-EXP_RATE * grid**2)\n",
    "    theoretical_gaussian /= np.sum(theoretical_gaussian)  # Normalize the Gaussian\n",
    "\n",
    "    # Interpolate theoretical probabilities at measured points\n",
    "    interp_func = np.interp(x_values, grid, theoretical_gaussian)\n",
    "    interpolated_theoretical_prob = interp_func\n",
    "\n",
    "    # Calculate Mean Squared Error (MSE)\n",
    "    mse = np.mean((np.array(summed_squared_norms) - interpolated_theoretical_prob)**2)\n",
    "    print(\"Mean Squared Error (MSE):\", mse)\n",
    "\n",
    "    # Plot measured and theoretical distributions\n",
    "    if should_plot:\n",
    "        plt.figure(figsize=(8, 6))\n",
    "        plt.scatter(x_values, summed_squared_norms, color='blue', alpha=0.7, label='Measured (Summed Squared Norms)')\n",
    "        plt.plot(grid, theoretical_gaussian, color='red', linewidth=2, label='Theoretical Gaussian')\n",
    "        plt.xlabel('x')\n",
    "        plt.ylabel('Probability')\n",
    "        plt.title('Measured vs Theoretical Gaussian')\n",
    "        plt.grid(True, linestyle='--', alpha=0.7)\n",
    "        plt.legend()\n",
    "        plt.tight_layout()\n",
    "        plt.show()\n",
    "\n",
    "    return mse"
   ]
  },
  {
   "cell_type": "markdown",
   "metadata": {},
   "source": [
    "**Don't Change The Following Cell!**"
   ]
  },
  {
   "cell_type": "code",
   "execution_count": 13,
   "metadata": {
    "jupyter": {
     "source_hidden": true
    }
   },
   "outputs": [],
   "source": [
    "# Stage 2:\n",
    "\n",
    "def get_metrics(qprog):\n",
    "    \"\"\"\n",
    "    Extract circuit metrics from a quantum program.\n",
    "\n",
    "    Parameters:\n",
    "        qprog: The quantum program object.\n",
    "\n",
    "    Returns:\n",
    "        dict: A dictionary containing the circuit metrics:\n",
    "              - \"depth\": Circuit depth.\n",
    "              - \"width\": Circuit width (number of qubits used).\n",
    "              - \"cx_count\": Number of CX gates (returns 0 if none are present).\n",
    "    \"\"\"\n",
    "    # Generate the optimized quantum circuit\n",
    "    circuit = QuantumProgram.from_qprog(qprog)\n",
    "\n",
    "    # Extract metrics\n",
    "    metrics = {\n",
    "        \"depth\": circuit.transpiled_circuit.depth,\n",
    "        \"width\": circuit.data.width,\n",
    "        \"cx_count\": circuit.transpiled_circuit.count_ops.get('cx', 0)  # Default to 0 if 'cx' not found\n",
    "    }\n",
    "\n",
    "    return metrics"
   ]
  },
  {
   "cell_type": "markdown",
   "metadata": {},
   "source": [
    "### Evaluate the results of stage 1:"
   ]
  },
  {
   "cell_type": "code",
   "execution_count": 35,
   "metadata": {},
   "outputs": [
    {
     "name": "stdout",
     "output_type": "stream",
     "text": [
      "Mean Squared Error (MSE): 0.012577691957318476\n"
     ]
    },
    {
     "data": {
      "image/png": "[encoded data removed]",
      "text/plain": [
       "<Figure size 800x600 with 1 Axes>"
      ]
     },
     "metadata": {},
     "output_type": "display_data"
    },
    {
     "name": "stdout",
     "output_type": "stream",
     "text": [
      "{'depth': 5, 'width': 3, 'cx_count': 4}\n"
     ]
    }
   ],
   "source": [
    "mse = scatter_aggregated_amplitudes_with_theory(result_stage_1.parsed_state_vector, resolution_stage_1, should_plot=True) \n",
    "print(get_metrics(qprog_stage_1))"
   ]
  },
  {
   "cell_type": "markdown",
   "metadata": {
    "jp-MarkdownHeadingCollapsed": true
   },
   "source": [
    "### Evluate the results of stage 2:"
   ]
  },
  {
   "cell_type": "markdown",
   "metadata": {},
   "source": [
    "<details markdown>\n",
    "<summary><b>Reminder!</b></summary>\n",
    "\n",
    "In Stage 2, you are expected to demonstrate the scalability of your algorithm by synthesizing the highest-resolution algorithm possible.\\\n",
    "Note that **it may exceed the 18-qubit limitation**.\n",
    "\n",
    "</details>\n"
   ]
  },
  {
   "cell_type": "code",
   "execution_count": 15,
   "metadata": {
    "tags": []
   },
   "outputs": [
    {
     "name": "stdout",
     "output_type": "stream",
     "text": [
      "{'depth': 1, 'width': 4, 'cx_count': 0}\n"
     ]
    }
   ],
   "source": [
    "print(get_metrics(qprog_stage_2))\n",
    "qprog_stage_2 = create_qprog(create_solution(resolution_stage_2), resolution_stage_2, stage=2)"
   ]
  },
  {
   "cell_type": "markdown",
   "metadata": {},
   "source": [
    "## Submission"
   ]
  },
  {
   "cell_type": "markdown",
   "metadata": {},
   "source": [
    "After evaluating your algorithm's performance in Stage 1 and optimizing it for efficient scalability in Stage 2, you are ready to submit your solution!"
   ]
  },
  {
   "cell_type": "code",
   "execution_count": 16,
   "metadata": {},
   "outputs": [],
   "source": [
    "# Don't change this cell!\n",
    "import os\n",
    "\n",
    "def save_qprog(qprog, folder=\".\", stage: int=1, team_name: str=\"your group\", resolution: int=0):\n",
    "    assert isinstance(resolution, int) and resolution >= 1\n",
    "    file_name = f\"{team_name.replace(' ','_')}__stage_{stage}__resolution_{resolution}.qprog\"\n",
    "    with open(os.path.join(folder, file_name), 'w') as f:\n",
    "        f.write(qprog)"
   ]
  },
  {
   "cell_type": "markdown",
   "metadata": {},
   "source": [
    "**Choose Your Team Name!**\\\n",
    "Set `TEAM_NAME =` to your chosen team name."
   ]
  },
  {
   "cell_type": "code",
   "execution_count": 32,
   "metadata": {},
   "outputs": [],
   "source": [
    "# Change to your group name!!\n",
    "TEAM_NAME = None\n",
    "\n",
    "save_qprog(qprog_stage_1, stage=1, resolution=resolution_stage_1, team_name=TEAM_NAME)\n",
    "save_qprog(qprog_stage_2, stage=2, resolution=resolution_stage_2, team_name=TEAM_NAME)"
   ]
  },
  {
   "cell_type": "markdown",
   "metadata": {},
   "source": [
    "### Explain the scaling of your solution between the stages"
   ]
  },
  {
   "cell_type": "markdown",
   "metadata": {},
   "source": [
    "Explain in one concise and to-the-point paragraph how your solution scales from Stage 1 to Stage 2, addressing how the **MSE** scales with the resolution, the **complexity** of the quantum program, and the size scaling with increasing resolution. Additionally, include any important decisions made during the implementation to ensure scalability and efficiency."
   ]
  },
  {
   "cell_type": "markdown",
   "metadata": {},
   "source": [
    "(Please Edit:)\n",
    "Our Solutions scales.... with the number of qubits (resolution). One of our main consideration was..."
   ]
  },
  {
   "cell_type": "markdown",
   "metadata": {},
   "source": [
    "**Submit all the files via the [submission page](https://fvrn0h72gwo.typeform.com/to/W4I7N9yl).**"
   ]
  },
  {
   "cell_type": "markdown",
   "metadata": {},
   "source": [
    "# We are looking forward to your solutions!\n",
    "### Good Luck! "
   ]
  }
 ],
 "metadata": {
  "kernelspec": {
   "display_name": ".venv",
   "language": "python",
   "name": "python3"
  },
  "language_info": {
   "codemirror_mode": {
    "name": "ipython",
    "version": 3
   },
   "file_extension": ".py",
   "mimetype": "text/x-python",
   "name": "python",
   "nbconvert_exporter": "python",
   "pygments_lexer": "ipython3",
   "version": "3.12.3"
  }
 },
 "nbformat": 4,
 "nbformat_minor": 4
}
